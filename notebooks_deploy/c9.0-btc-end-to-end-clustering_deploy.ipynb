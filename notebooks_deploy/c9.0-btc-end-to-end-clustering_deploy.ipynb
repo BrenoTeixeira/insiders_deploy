{
 "cells": [
  {
   "cell_type": "markdown",
   "id": "9073085f",
   "metadata": {},
   "source": [
    "# Data Dictionary"
   ]
  },
  {
   "attachments": {},
   "cell_type": "markdown",
   "id": "0d89a659",
   "metadata": {},
   "source": [
    "|Attribute|Description\n",
    "----------|-----------\n",
    "InvoiceNo| Invoice number. Nominal, a 6-digit integral number uniquely assigned to each transaction. If this code starts with letter 'c', it indicates a cancellation.\n",
    "StockCode| Product (item) code. Nominal, a 5-digit integral number uniquely assigned to each distinct product.\n",
    "Description| Product (item) name. Nominal.\n",
    "Quantity| The quantities of each product (item) per transaction. Numeric.\n",
    "InvoiceDate| Invoice Date and time. Numeric, the day and time when each transaction was generated.\n",
    "UnitPrice| Unit price. Numeric, Product price per unit in sterling.\n",
    "CustomerID| Customer number. Nominal, a 5-digit integral number uniquely assigned to each customer.\n",
    "Country| Country name. Nominal, the name of the country where each customer resides."
   ]
  },
  {
   "cell_type": "markdown",
   "id": "2609c82f",
   "metadata": {},
   "source": [
    "# 0.0 Imports"
   ]
  },
  {
   "cell_type": "code",
   "execution_count": 14,
   "id": "853d47f7-279c-4ae6-b099-cf83fc4471e9",
   "metadata": {},
   "outputs": [],
   "source": [
    "import pandas as pd\n",
    "import inflection\n",
    "#from src import GeneralUtils  as gu\n",
    "#import seaborn as sns\n",
    "#import matplotlib.pyplot as plt\n",
    "#import plotly.express as px\n",
    "#import matplotlib.cm as cm\n",
    "import numpy as np\n",
    "#import scipy.stats as st\n",
    "#from scipy.stats import kstest\n",
    "\n",
    "import umap.umap_ as um\n",
    "#from sklearn.decomposition import PCA\n",
    "import sklearn.metrics as mt\n",
    "from sklearn.pipeline import Pipeline\n",
    "from sklearn.compose import ColumnTransformer\n",
    "import sklearn.preprocessing as pp\n",
    "import sklearn.manifold as man\n",
    "\n",
    "from sklearn.ensemble import RandomForestRegressor\n",
    "from sklearn.cluster import KMeans, AgglomerativeClustering\n",
    "import sklearn.mixture as mix\n",
    "from scipy.cluster.hierarchy import dendrogram, ward, linkage, fcluster\n",
    "\n",
    "import dotenv\n",
    "import datetime as dt\n",
    "import sqlite3\n",
    "from sqlalchemy import create_engine\n",
    "import pickle\n",
    "import s3fs"
   ]
  },
  {
   "cell_type": "code",
   "execution_count": 15,
   "id": "642aed19",
   "metadata": {},
   "outputs": [],
   "source": [
    "def recency_feat(df_feature_, df_feature_transaction_):\n",
    "\n",
    "    # Recency\n",
    "    diff = df_feature_.invoice_date.max() - df_feature_transaction_.groupby('customer_id').max()['invoice_date']\n",
    "    recency = pd.DataFrame(diff).reset_index().rename(columns={'invoice_date': 'recency'})\n",
    "\n",
    "    recency['recency'] = recency['recency'].dt.days\n",
    "\n",
    "    return recency\n",
    "\n",
    "\n",
    "def frequency_feat(df_feature_, df_feature_transaction_):\n",
    "\n",
    "    # Frequency\n",
    "    max_date = df_feature_.invoice_date.max()\n",
    "    aux = df_feature_transaction_.groupby('customer_id').agg( max_ = ('invoice_date', 'max'), \n",
    "                                        min_ = ('invoice_date', 'min'),\n",
    "                                        #days_ = ('invoice_date', lambda x: (max_date - min_date).days + 1),\n",
    "                                        days_ = ('invoice_date', lambda x: (max_date - x.min()).days + 1),\n",
    "                                        buy_ = ('invoice_no', 'nunique'),\n",
    "                                        ).reset_index()\n",
    "\n",
    "    aux['frequency'] = aux.buy_/aux.days_\n",
    "\n",
    "    return aux\n",
    "\n",
    "\n",
    "def total_spent_feat(df_feature_):\n",
    "\n",
    "    # Total Spent\n",
    "    df_feature_['gross_revenue'] = df_feature_.quantity * df_feature_.unit_price\n",
    "\n",
    "    monetary = df_feature_.groupby('customer_id').sum(numeric_only=True).gross_revenue.reset_index().rename(columns={'gross_revenue': 'total_spent'})\n",
    "    df_feature_ = df_feature_.merge((monetary), how='left', on='customer_id')\n",
    "\n",
    "    return monetary\n",
    "\n",
    "\n",
    "def transactions_feat(df_features_):\n",
    "\n",
    "    # Transactions\n",
    "    transactions = df_features_.groupby('customer_id').nunique()[['invoice_no']].reset_index().rename(columns={'invoice_no': 'transactions'})\n",
    "\n",
    "    return transactions\n",
    "\n",
    "\n",
    "def avg_ticket_feat(df_features_):\n",
    "\n",
    "    # Average Ticket\n",
    "    avg_ticket = df_features_.groupby(['customer_id', 'invoice_no']).sum(numeric_only=True).gross_revenue.reset_index().rename(columns={'gross_revenue': 'avg_ticket'}).groupby('customer_id').mean(numeric_only=True).reset_index()\n",
    "   \n",
    "    return avg_ticket\n",
    "\n",
    "\n",
    "def product_variety_feat(df_features_):\n",
    "\n",
    "    # Product Variety\n",
    "    product_variety = df_features_.groupby('customer_id').nunique()[['description']].reset_index().rename(columns={'description': 'product_variety'})\n",
    "    \n",
    "    return product_variety\n",
    "\n",
    "\n",
    "def avg_basket_feat(df_features_):\n",
    "\n",
    "    # Average Basket Size \n",
    "    avg_basket = df_features_[['customer_id', 'invoice_no', 'quantity']].groupby(['customer_id', 'invoice_no']).sum()\\\n",
    "                                                                                                                    .reset_index().groupby('customer_id').mean(numeric_only=True)\\\n",
    "                                                                                                                    .reset_index().rename(columns={'quantity': 'avg_basket'})\n",
    "\n",
    "    return avg_basket\n",
    "\n",
    "\n",
    "def avg_basket_variety_feat(df_features_): \n",
    "\n",
    "    # Average Basket Variety Size\n",
    "    avg_basket_var = df_features_[['customer_id', 'invoice_no', 'stock_code']].groupby(['customer_id', 'invoice_no']).nunique()\\\n",
    "                                                                                                                    .reset_index().groupby('customer_id').mean(numeric_only=True)\\\n",
    "                                                                                                                    .reset_index().rename(columns={'stock_code': 'avg_basket_variety'})\n",
    "  \n",
    "    return avg_basket_var\n",
    "\n",
    "\n",
    "def cancellations_feat(df_features_): \n",
    "\n",
    "    cancellations = df_features_[['customer_id', 'quantity']].groupby('customer_id').apply(lambda c: c.abs().sum())[['quantity']].reset_index().rename(columns={'quantity': 'number_of_cancellations'})\n",
    "\n",
    "    return cancellations\n",
    "\n",
    "\n",
    "def quantity_feat(df_features_): \n",
    "\n",
    "    # Total Quantity\n",
    "    quantity = df_features_.groupby('customer_id').sum(numeric_only=True).quantity.reset_index().rename(columns={'quantity': 'total_quantity'})\n",
    "\n",
    "    return quantity"
   ]
  },
  {
   "cell_type": "code",
   "execution_count": 16,
   "id": "e4fe86f0",
   "metadata": {},
   "outputs": [],
   "source": [
    "secret = dotenv.dotenv_values('../vars/.env')['SECRET_KEY']\n",
    "key = dotenv.dotenv_values('../vars/.env')['ACCESS_KEY']\n",
    "fs = s3fs.S3FileSystem(anon=False, key=key, secret=secret)"
   ]
  },
  {
   "attachments": {},
   "cell_type": "markdown",
   "id": "4a125e8f-f4ca-40ef-8b6c-d4aae2c50319",
   "metadata": {},
   "source": [
    "# 0.1 Load Data"
   ]
  },
  {
   "cell_type": "code",
   "execution_count": 17,
   "id": "356ebf4f-339c-469b-a40a-f51ecfe7d238",
   "metadata": {},
   "outputs": [],
   "source": [
    "path_s3 = 's3://insider-data-bucket/'\n",
    "df_raw = pd.read_csv(path_s3 +  'Ecommerce.csv', \n",
    "                     encoding='ISO-8859-1',\n",
    "                     storage_options={'key': key,\n",
    "                                      'secret': secret})\n",
    "#df_raw = pd.read_csv('../data/raw/Ecommerce.csv', encoding='ISO-8859-1')"
   ]
  },
  {
   "cell_type": "markdown",
   "id": "a2ba3ea1",
   "metadata": {},
   "source": [
    "![green-divider](https://user-images.githubusercontent.com/7065401/52071924-c003ad80-2562-11e9-8297-1c6595f8a7ff.png)\n"
   ]
  },
  {
   "attachments": {},
   "cell_type": "markdown",
   "id": "740d3d4b",
   "metadata": {},
   "source": [
    "# 1.0. Data Description"
   ]
  },
  {
   "cell_type": "code",
   "execution_count": 18,
   "id": "362bdcee",
   "metadata": {},
   "outputs": [],
   "source": [
    "df_description = df_raw.drop('Unnamed: 8', axis=1)"
   ]
  },
  {
   "attachments": {},
   "cell_type": "markdown",
   "id": "48396720",
   "metadata": {},
   "source": [
    "## 1.1. Renaming Columns"
   ]
  },
  {
   "cell_type": "code",
   "execution_count": 19,
   "id": "a88d79f0",
   "metadata": {},
   "outputs": [],
   "source": [
    "snakecase = lambda x: inflection.underscore(x)\n",
    "new_cols = list(map(snakecase, df_description.columns))\n",
    "\n",
    "df_description.columns = new_cols"
   ]
  },
  {
   "cell_type": "code",
   "execution_count": 20,
   "id": "bcf4e2fa",
   "metadata": {},
   "outputs": [],
   "source": [
    "df_description['description'] = df_description['description'].str.lower()"
   ]
  },
  {
   "attachments": {},
   "cell_type": "markdown",
   "id": "201c8e8a",
   "metadata": {},
   "source": [
    "## 1.4.  Handling Missing Values"
   ]
  },
  {
   "attachments": {},
   "cell_type": "markdown",
   "id": "7e27667e",
   "metadata": {},
   "source": [
    "**I will add a custom customer ID for each unique inovice number with a missing customer ID**\n",
    "\n",
    "Issue: Doing this, these new customers' IDs will only have one transaction, but this might be better than removing all this data."
   ]
  },
  {
   "cell_type": "code",
   "execution_count": 21,
   "id": "ecc15017",
   "metadata": {},
   "outputs": [],
   "source": [
    "df_missing = df_description.query('customer_id.isnull()')\n",
    "missing_invoice_no = df_missing[['invoice_no']].drop_duplicates()\n",
    "missing_invoice_no['customer_id'] = np.arange(19000, 19000+len(missing_invoice_no))\n",
    "df_description = df_description.merge(missing_invoice_no, on='invoice_no', how='left')\n",
    "df_description['customer_id'] = df_description['customer_id_x'].combine_first(df_description['customer_id_y'])\n",
    "df_clean = df_description.drop(columns=['customer_id_x', 'customer_id_y'])"
   ]
  },
  {
   "attachments": {},
   "cell_type": "markdown",
   "id": "3951a098",
   "metadata": {},
   "source": [
    "## 1.5. Fixing Data Types"
   ]
  },
  {
   "cell_type": "code",
   "execution_count": 22,
   "id": "0bbe166b",
   "metadata": {},
   "outputs": [],
   "source": [
    "df_clean.invoice_date = pd.to_datetime(df_clean.invoice_date)\n",
    "df_clean.customer_id = df_clean.customer_id.astype(int)"
   ]
  },
  {
   "attachments": {},
   "cell_type": "markdown",
   "id": "88510dc2",
   "metadata": {},
   "source": [
    "## 1.6. Descriptive Statistics"
   ]
  },
  {
   "cell_type": "markdown",
   "id": "595581a9",
   "metadata": {},
   "source": [
    "### 1.6.1 Numerical Attributes"
   ]
  },
  {
   "cell_type": "code",
   "execution_count": 23,
   "id": "65e44fc7",
   "metadata": {},
   "outputs": [],
   "source": [
    "num_att = df_clean.select_dtypes(include=['float64', 'int64'])\n",
    "cat_att = df_clean.select_dtypes(exclude=['float64', 'int64', 'datetime64[ns]'])"
   ]
  },
  {
   "attachments": {},
   "cell_type": "markdown",
   "id": "834e6413",
   "metadata": {},
   "source": [
    "### 1.6.2 Categorical Attributes"
   ]
  },
  {
   "attachments": {},
   "cell_type": "markdown",
   "id": "5515c89c",
   "metadata": {},
   "source": [
    "**Invoice Number with at least one string**"
   ]
  },
  {
   "cell_type": "code",
   "execution_count": 24,
   "id": "2495d2b5",
   "metadata": {},
   "outputs": [
    {
     "name": "stdout",
     "output_type": "stream",
     "text": [
      "Total Number of Cancellation invoices: 9288\n",
      "Total Number of Negative quantites: 9288\n"
     ]
    }
   ],
   "source": [
    "# df_description.inoice_no.astype(int)\n",
    "letter_invoices = df_clean.loc[df_description.invoice_no.str.contains('C')]\n",
    "\n",
    "print('Total Number of Cancellation invoices:', len(letter_invoices))\n",
    "print('Total Number of Negative quantites:', len(letter_invoices.query('quantity < 0')))"
   ]
  },
  {
   "cell_type": "markdown",
   "id": "ac5d45f4",
   "metadata": {},
   "source": [
    "![green-divider](https://user-images.githubusercontent.com/7065401/52071924-c003ad80-2562-11e9-8297-1c6595f8a7ff.png)\n"
   ]
  },
  {
   "attachments": {},
   "cell_type": "markdown",
   "id": "435c9ba4",
   "metadata": {},
   "source": [
    "# 2.0. Variables Filtering"
   ]
  },
  {
   "cell_type": "code",
   "execution_count": 25,
   "id": "f4be563b",
   "metadata": {},
   "outputs": [],
   "source": [
    "#df_filter = df_clean.copy()"
   ]
  },
  {
   "attachments": {},
   "cell_type": "markdown",
   "id": "a18cde1a",
   "metadata": {},
   "source": [
    "## 2.1. Numerical"
   ]
  },
  {
   "attachments": {},
   "cell_type": "markdown",
   "id": "1cebc577",
   "metadata": {},
   "source": [
    "By the description of the items with a negative quantity and are not cancellations, it seems like they are some mistakes or an issue with the product. Since these instances don't represent actual sales, we will remove them from the dataset."
   ]
  },
  {
   "cell_type": "code",
   "execution_count": 26,
   "id": "1abed54b",
   "metadata": {},
   "outputs": [],
   "source": [
    "df_filter = df_clean.copy().query(\"~(quantity <= 0 & invoice_no.str.isdigit())\")\\\n",
    "                           .query('unit_price >= 0.004')"
   ]
  },
  {
   "cell_type": "markdown",
   "id": "bb3ddcc0",
   "metadata": {},
   "source": [
    "**Unit prices very close to zero**"
   ]
  },
  {
   "attachments": {},
   "cell_type": "markdown",
   "id": "2f9b22a7",
   "metadata": {},
   "source": [
    "Half of the instances don't have a description, which makes it harder to define what these instances mean. Therefore, they will be removed (unit price < 0.004)."
   ]
  },
  {
   "cell_type": "code",
   "execution_count": 27,
   "id": "244fefd5",
   "metadata": {},
   "outputs": [],
   "source": [
    "#df_filter = df_filter.query('unit_price >= 0.004')"
   ]
  },
  {
   "attachments": {},
   "cell_type": "markdown",
   "id": "7cc93481",
   "metadata": {},
   "source": [
    "## 2.2. Categorical"
   ]
  },
  {
   "cell_type": "code",
   "execution_count": 28,
   "id": "4888ae46",
   "metadata": {},
   "outputs": [],
   "source": [
    "# removing stock_codes that are only letters\n",
    "df_filter = df_filter.query(\"~stock_code.isin(['POST', 'D', 'DOT', 'M', 'S', 'AMAZONFEE', 'm', 'DCGSSBOY', 'DCGSSGIRL', 'PADS', 'B', 'CRUK'])\")\\\n",
    "                      .query(\"~country.isin(['European Community', 'Unspecified'])\")\n",
    "\n",
    "# removing European Community and Unspecified\n",
    "#df_filter = df_filter.query(\"~country.isin(['European Community', 'Unspecified'])\")\n",
    "\n",
    "#country_dict = {'EIRE': 'Ireland', 'RSA': 'South Africa', 'USA': 'United States', 'Channel Islands': 'United Kingdom'}\n",
    "\n",
    "#countries_to_modify = ['USA', 'Channel Islands', 'RSA', 'EIRE']\n",
    "\n",
    "#df_filter.country = df_filter.country.apply(lambda x: country_dict[x] if x in countries_to_modify else x)"
   ]
  },
  {
   "cell_type": "code",
   "execution_count": 29,
   "id": "e4c392f6",
   "metadata": {},
   "outputs": [
    {
     "name": "stdout",
     "output_type": "stream",
     "text": [
      "Removed data: 1.064%\n",
      "Number of Elements Removed: 5765\n"
     ]
    }
   ],
   "source": [
    "# description\n",
    "print(f'Removed data: {1 - (df_filter.shape[0]/df_clean.shape[0]):.3%}')\n",
    "print(f'Number of Elements Removed: {df_clean.shape[0] - df_filter.shape[0]}')"
   ]
  },
  {
   "cell_type": "code",
   "execution_count": 30,
   "id": "00bbf8b1",
   "metadata": {},
   "outputs": [
    {
     "name": "stdout",
     "output_type": "stream",
     "text": [
      "Number of rows Cancelation: 8730\n",
      "Number of rows Transaction: 527414\n"
     ]
    }
   ],
   "source": [
    "print('Number of rows Cancelation:', df_filter.query(\"quantity < 0 or invoice_no.str.contains('C')\").shape[0])\n",
    "print('Number of rows Transaction:', df_filter.query('quantity > 0').shape[0])"
   ]
  },
  {
   "cell_type": "markdown",
   "id": "41a71287",
   "metadata": {},
   "source": [
    "![green-divider](https://user-images.githubusercontent.com/7065401/52071924-c003ad80-2562-11e9-8297-1c6595f8a7ff.png)\n"
   ]
  },
  {
   "attachments": {},
   "cell_type": "markdown",
   "id": "34c998d9",
   "metadata": {},
   "source": [
    "# 3.0. Feature Engineering"
   ]
  },
  {
   "cell_type": "code",
   "execution_count": 31,
   "id": "1e743fcf",
   "metadata": {},
   "outputs": [],
   "source": [
    "df_feature = df_filter.copy()\n",
    "df_feature_cancellation = df_filter.query(\"quantity < 0 or invoice_no.str.contains('C')\").copy()\n",
    "df_feature_transaction = df_filter.query('quantity > 0').copy()"
   ]
  },
  {
   "cell_type": "markdown",
   "id": "a06a3c00",
   "metadata": {},
   "source": [
    "**Recency, Frequency and Monetary**"
   ]
  },
  {
   "cell_type": "code",
   "execution_count": 35,
   "id": "54289bfe",
   "metadata": {},
   "outputs": [],
   "source": [
    "#  Number of days since the last purchase\n",
    "recency = recency_feat(df_feature, df_feature_transaction)\n",
    "\n",
    "# Number of unique purchases/days since first date in the dataset.\n",
    "frequency = frequency_feat(df_feature, df_feature_transaction)\n",
    "\n",
    "# Total Spent\n",
    "monetary = total_spent_feat(df_feature)"
   ]
  },
  {
   "cell_type": "markdown",
   "id": "1362aac2",
   "metadata": {},
   "source": [
    "**Number of transactions, Variety, Average Ticket and Average Basket Size**"
   ]
  },
  {
   "cell_type": "code",
   "execution_count": 36,
   "id": "96ee51b2",
   "metadata": {},
   "outputs": [],
   "source": [
    "# Number of purchases\n",
    "transactions = transactions_feat(df_feature)\n",
    "\n",
    "# Average purchases value\n",
    "avg_ticket = avg_ticket_feat(df_feature)\n",
    "\n",
    "# Number Unique products.\n",
    "product_variety = product_variety_feat(df_feature_transaction)\n",
    "\n",
    "# Average basket size\n",
    "avg_basket = avg_basket_feat(df_feature)\n",
    "\n",
    "# Average number of unique products per purchase\n",
    "avg_basket_variety = avg_basket_variety_feat(df_feature_transaction)"
   ]
  },
  {
   "cell_type": "markdown",
   "id": "a71f591b",
   "metadata": {},
   "source": [
    "**Average Recency, Total Cancelltions, Quantity** - <font color='red'>Average Recency Removed</font>"
   ]
  },
  {
   "cell_type": "code",
   "execution_count": 37,
   "id": "a7b40c32",
   "metadata": {},
   "outputs": [],
   "source": [
    "# Number of cancellation\n",
    "cancellations = cancellations_feat(df_feature_cancellation)\n",
    "\n",
    "# Total Quantity\n",
    "quantity = quantity_feat(df_feature)"
   ]
  },
  {
   "cell_type": "code",
   "execution_count": 38,
   "id": "f10871af",
   "metadata": {},
   "outputs": [],
   "source": [
    "df_feature_new = df_feature.copy().merge(recency, how='left', on='customer_id')\\\n",
    ".drop_duplicates('customer_id')\\\n",
    ".merge(frequency[['customer_id', 'frequency']], how='left', on='customer_id')\\\n",
    ".merge(monetary, how='left', on='customer_id')\\\n",
    ".merge(transactions, how='left', on='customer_id')\\\n",
    ".merge(avg_ticket, how='left', on='customer_id')\\\n",
    ".merge(product_variety, how='left', on='customer_id')\\\n",
    ".merge(avg_basket, how='left', on='customer_id')\\\n",
    ".merge(avg_basket_variety, how='left', on='customer_id')\\\n",
    ".merge(cancellations, how='left', on='customer_id')\\\n",
    ".merge(quantity, how='left', on='customer_id')\n"
   ]
  },
  {
   "attachments": {},
   "cell_type": "markdown",
   "id": "34ff99d0",
   "metadata": {},
   "source": [
    "Some customers only have cancellations, they need to be removed."
   ]
  },
  {
   "cell_type": "code",
   "execution_count": 39,
   "id": "bf0ebb80",
   "metadata": {},
   "outputs": [],
   "source": [
    "columns = ['customer_id', 'recency', 'frequency', 'total_spent', 'transactions', 'total_quantity', 'avg_ticket', 'product_variety', 'avg_basket', 'avg_basket_variety', 'number_of_cancellations']\n",
    "df_customers = df_feature_new.copy()[columns]\n",
    "#df_customers.head()"
   ]
  },
  {
   "attachments": {},
   "cell_type": "markdown",
   "id": "38804ed5",
   "metadata": {},
   "source": [
    "The number of cancelations with null values are customers with no cancellations.\n",
    "\n",
    "I want to focus on customers who have made purchases. Therefore I will remove those with a negative monetary values, which may mean they have more canceled orders than purchases."
   ]
  },
  {
   "cell_type": "code",
   "execution_count": 40,
   "id": "58b2f384",
   "metadata": {},
   "outputs": [],
   "source": [
    "# fill null values for number of cancellations\n",
    "df_customers['number_of_cancellations'] = df_customers['number_of_cancellations'].fillna(0)\n",
    "df_customers_clean = df_customers.query('(total_spent > 0)')\n",
    "\n",
    "#print('Items Removed:', df_customers.shape[0] - df_customers_clean.shape[0])"
   ]
  },
  {
   "cell_type": "code",
   "execution_count": 41,
   "id": "b68713ff",
   "metadata": {},
   "outputs": [],
   "source": [
    "df_eda = df_customers_clean.copy().query('~(customer_id == 16446) & (total_quantity!=0)')"
   ]
  },
  {
   "cell_type": "markdown",
   "id": "5b5c5f9c",
   "metadata": {},
   "source": [
    "**Removing bad users**"
   ]
  },
  {
   "cell_type": "markdown",
   "id": "b58fdd74",
   "metadata": {},
   "source": [
    "![green-divider](https://user-images.githubusercontent.com/7065401/52071924-c003ad80-2562-11e9-8297-1c6595f8a7ff.png)\n"
   ]
  },
  {
   "attachments": {},
   "cell_type": "markdown",
   "id": "b6b1b08e",
   "metadata": {},
   "source": [
    "# 5.0. Data Preparation"
   ]
  },
  {
   "cell_type": "code",
   "execution_count": 42,
   "id": "6b2d17ab",
   "metadata": {},
   "outputs": [],
   "source": [
    "#df_prep = df_eda.copy()"
   ]
  },
  {
   "cell_type": "code",
   "execution_count": 43,
   "id": "6d8c9ba2",
   "metadata": {},
   "outputs": [],
   "source": [
    "#std = Pipeline([('standard', pp.StandardScaler())])\n",
    "#minmax = Pipeline([('minmax', pp.MinMaxScaler())])\n",
    "#robust = Pipeline([('robust', pp.RobustScaler())])\n",
    "#cols = ['recency', 'frequency', 'total_spent', 'total_quantity', 'transactions', 'avg_ticket', 'product_variety', 'avg_basket', 'number_of_cancellations']\n",
    "#pass_cols = ['customer_id'] \n",
    "#\n",
    "#preprocess = ColumnTransformer([('pass', 'passthrough', pass_cols), ('minmax', minmax, cols)])\n",
    "##std_preprocess = ColumnTransformer([('pass', 'passthrough', pass_cols), ('standard', std, cols)])"
   ]
  },
  {
   "attachments": {},
   "cell_type": "markdown",
   "id": "75e65a44",
   "metadata": {},
   "source": [
    "**Using Min Max Scaler for all features.**"
   ]
  },
  {
   "cell_type": "code",
   "execution_count": 44,
   "id": "42e220a8",
   "metadata": {},
   "outputs": [],
   "source": [
    "#df_prep_scaled\n",
    "#df_prep_scaled = pd.DataFrame(preprocess.fit_transform(df_prep))\n",
    "#cols = np.concatenate((pass_cols, cols), axis=0)\n",
    "#df_prep_scaled.columns = cols"
   ]
  },
  {
   "cell_type": "markdown",
   "id": "6adfc1a0",
   "metadata": {},
   "source": [
    "![green-divider](https://user-images.githubusercontent.com/7065401/52071924-c003ad80-2562-11e9-8297-1c6595f8a7ff.png)\n"
   ]
  },
  {
   "attachments": {},
   "cell_type": "markdown",
   "id": "af8301a1",
   "metadata": {},
   "source": [
    "# 6.0. Feature Selection"
   ]
  },
  {
   "cell_type": "code",
   "execution_count": 45,
   "id": "48e9afb6",
   "metadata": {},
   "outputs": [],
   "source": [
    "# remove avg_basket\n",
    "# remove avg_recency\n",
    "# remove items\n",
    "# remove Transaction\n",
    "\n",
    "columns_selected = ['customer_id', 'recency', 'frequency', 'total_spent', 'total_quantity', 'number_of_cancellations']"
   ]
  },
  {
   "cell_type": "code",
   "execution_count": 46,
   "id": "e8806a88",
   "metadata": {},
   "outputs": [],
   "source": [
    "df_fselect = df_eda.copy()[columns_selected]\n",
    "#df_fselect_sc = df_prep_scaled.copy()[columns_selected]"
   ]
  },
  {
   "attachments": {},
   "cell_type": "markdown",
   "id": "9f502635",
   "metadata": {},
   "source": [
    "# 7.0. Embedding Space"
   ]
  },
  {
   "cell_type": "code",
   "execution_count": 47,
   "id": "d869ff52",
   "metadata": {},
   "outputs": [],
   "source": [
    "df_embed = df_fselect.drop(columns=['customer_id']).copy()\n",
    "\n",
    "#df_embed_sc = df_fselect_sc.drop(columns=['customer_id']).copy()"
   ]
  },
  {
   "attachments": {},
   "cell_type": "markdown",
   "id": "588b51c6",
   "metadata": {},
   "source": [
    "## 7.4. Tree-Based Embedding"
   ]
  },
  {
   "attachments": {},
   "cell_type": "markdown",
   "id": "dc11fbf2",
   "metadata": {},
   "source": [
    "Variable that organize the customers in a way that I can group the most valuable clients."
   ]
  },
  {
   "cell_type": "code",
   "execution_count": 48,
   "id": "b0e3e029",
   "metadata": {},
   "outputs": [],
   "source": [
    "X = df_embed.drop(columns='total_spent')\n",
    "y = df_embed['total_spent']\n",
    "\n",
    "# model\n",
    "# rf = RandomForestRegressor(n_estimators=100, random_state=42)\n",
    "\n",
    "# training\n",
    "#rf.fit(X, y)\n",
    "\n",
    "#rf = pickle.load(open('../model/rf_model.pkl', 'rb'))\n",
    "rf = pickle.load(fs.open('s3://insider-data-bucket/rf_model.pkl', 'rb'))\n",
    "# Aplying the tree structure in the training set (Leafs)\n",
    "df_leaf = pd.DataFrame(rf.apply(X)) \n"
   ]
  },
  {
   "cell_type": "code",
   "execution_count": 49,
   "id": "69040989",
   "metadata": {},
   "outputs": [],
   "source": [
    "#umap = um.UMAP(n_neighbors=50, random_state=42, n_jobs=-1, n_epochs=500, n_components=4)\n",
    "#umap = pickle.load(open('../model/umap_reducer.pkl', 'rb'))\n",
    "\n",
    "umap = pickle.load(fs.open('s3://insider-data-bucket/umap_reducer.pkl', 'rb'))\n",
    "df_umap_rf = umap.transform(df_leaf)\n",
    "df_embed_tree = pd.DataFrame(df_umap_rf)\n",
    "#plt.figure(figsize=(12, 6))\n",
    "#\n",
    "#sns.scatterplot(x=df_umap_rf[:, 0], y=df_umap_rf[:, 1], size=0.1)\n"
   ]
  },
  {
   "cell_type": "markdown",
   "id": "4c5ad535",
   "metadata": {},
   "source": [
    "![green-divider](https://user-images.githubusercontent.com/7065401/52071924-c003ad80-2562-11e9-8297-1c6595f8a7ff.png)\n"
   ]
  },
  {
   "attachments": {},
   "cell_type": "markdown",
   "id": "872c5ea0",
   "metadata": {},
   "source": [
    "# 8.0. Hyperparameter Fine-Tuning"
   ]
  },
  {
   "cell_type": "code",
   "execution_count": 50,
   "id": "8a568db2",
   "metadata": {},
   "outputs": [],
   "source": [
    "#X = df_fselect_sc.copy().reset_index(drop=True).drop(columns=['customer_id'])\n",
    "# Using the data of the embedding space build with umap and a tree model\n",
    "\n",
    "#X = df_embed_sc.copy()\n",
    "\n",
    "X_tree = df_embed_tree.copy()\n",
    "\n",
    "#X_umap = df_umap_sc.copy()\n",
    "#\n",
    "#X_tsne = df_tsne_sc.copy()"
   ]
  },
  {
   "cell_type": "markdown",
   "id": "66f6b6c4",
   "metadata": {},
   "source": [
    "# Results"
   ]
  },
  {
   "cell_type": "code",
   "execution_count": 51,
   "id": "a2f8895b",
   "metadata": {},
   "outputs": [],
   "source": [
    "#clusters = np.arange(2, 30, 1)\n",
    "#hierarch_perf = gu.hierarchical_performance(X=X_tree, clusters=clusters, plot=False, metric='euclidean')\n",
    "#gmm_perf = gu.gmm_performance(X=X_tree, components=clusters, plot=False, metric='euclidean', covariance_type='full')\n",
    "#kmeans_perf = gu.kmeans_performance(X=X_tree, clusters=clusters, plot=False, metric='euclidean')\n",
    "#\n",
    "#results = pd.concat([kmeans_perf, hierarch_perf, gmm_perf])\n",
    "#results.columns = clusters\n",
    "#\n",
    "#results.style.highlight_max(color='lightgreen', axis=1)"
   ]
  },
  {
   "cell_type": "markdown",
   "id": "c6a19e50",
   "metadata": {},
   "source": [
    "![green-divider](https://user-images.githubusercontent.com/7065401/52071924-c003ad80-2562-11e9-8297-1c6595f8a7ff.png)\n"
   ]
  },
  {
   "attachments": {},
   "cell_type": "markdown",
   "id": "18cbf1dd",
   "metadata": {},
   "source": [
    "# 8.0. Model Training"
   ]
  },
  {
   "attachments": {},
   "cell_type": "markdown",
   "id": "5a99d900",
   "metadata": {},
   "source": [
    "## 8.1. Hierarchical Clustering"
   ]
  },
  {
   "cell_type": "code",
   "execution_count": 52,
   "id": "7a349a10",
   "metadata": {},
   "outputs": [
    {
     "name": "stdout",
     "output_type": "stream",
     "text": [
      "Silhouette Score: 0.6161004900932312\n"
     ]
    }
   ],
   "source": [
    "n_cluster = 10\n",
    "kmeans = KMeans(init='random', n_clusters=n_cluster, n_init=10, max_iter=300, random_state=42 )\n",
    "\n",
    "labels = kmeans.fit_predict(X_tree)\n",
    "\n",
    "sil = mt.silhouette_score(X_tree, labels, metric='euclidean')\n",
    "\n",
    "print(f'Silhouette Score: {sil}')"
   ]
  },
  {
   "cell_type": "markdown",
   "id": "75293f24",
   "metadata": {},
   "source": [
    "![green-divider](https://user-images.githubusercontent.com/7065401/52071924-c003ad80-2562-11e9-8297-1c6595f8a7ff.png)\n"
   ]
  },
  {
   "attachments": {},
   "cell_type": "markdown",
   "id": "a5944c80",
   "metadata": {},
   "source": [
    "# 9.0. Cluster Analysis"
   ]
  },
  {
   "cell_type": "markdown",
   "id": "e3f07a19",
   "metadata": {},
   "source": [
    "## 9.1. Visualization"
   ]
  },
  {
   "cell_type": "code",
   "execution_count": 53,
   "id": "50be2306",
   "metadata": {},
   "outputs": [],
   "source": [
    "cluster_df = df_fselect.copy()\n",
    "#cluster_df_sc = df_fselect_sc.copy()\n",
    "cluster_df['cluster'] = labels\n",
    "#cluster_df_sc['cluster'] = labels"
   ]
  },
  {
   "attachments": {},
   "cell_type": "markdown",
   "id": "366f1529",
   "metadata": {},
   "source": [
    "## 9.2. Clusters Profile"
   ]
  },
  {
   "cell_type": "code",
   "execution_count": 54,
   "id": "3e26ea6d",
   "metadata": {},
   "outputs": [
    {
     "data": {
      "text/html": [
       "<div>\n",
       "<style scoped>\n",
       "    .dataframe tbody tr th:only-of-type {\n",
       "        vertical-align: middle;\n",
       "    }\n",
       "\n",
       "    .dataframe tbody tr th {\n",
       "        vertical-align: top;\n",
       "    }\n",
       "\n",
       "    .dataframe thead th {\n",
       "        text-align: right;\n",
       "    }\n",
       "</style>\n",
       "<table border=\"1\" class=\"dataframe\">\n",
       "  <thead>\n",
       "    <tr style=\"text-align: right;\">\n",
       "      <th></th>\n",
       "      <th>cluster</th>\n",
       "      <th>number_of_customers</th>\n",
       "      <th>percentual</th>\n",
       "      <th>avg_recency</th>\n",
       "      <th>avg_frequency</th>\n",
       "      <th>avg_spent</th>\n",
       "      <th>number_of_cancellations</th>\n",
       "      <th>avg_quantity</th>\n",
       "    </tr>\n",
       "  </thead>\n",
       "  <tbody>\n",
       "    <tr>\n",
       "      <th>0</th>\n",
       "      <td>0</td>\n",
       "      <td>487</td>\n",
       "      <td>8.57</td>\n",
       "      <td>30.172485</td>\n",
       "      <td>0.052795</td>\n",
       "      <td>10708.476448</td>\n",
       "      <td>162.745380</td>\n",
       "      <td>6309.527721</td>\n",
       "    </tr>\n",
       "    <tr>\n",
       "      <th>1</th>\n",
       "      <td>1</td>\n",
       "      <td>189</td>\n",
       "      <td>3.33</td>\n",
       "      <td>178.597884</td>\n",
       "      <td>0.018227</td>\n",
       "      <td>8.208095</td>\n",
       "      <td>0.000000</td>\n",
       "      <td>1.550265</td>\n",
       "    </tr>\n",
       "    <tr>\n",
       "      <th>2</th>\n",
       "      <td>2</td>\n",
       "      <td>782</td>\n",
       "      <td>13.77</td>\n",
       "      <td>183.681586</td>\n",
       "      <td>0.013896</td>\n",
       "      <td>274.779156</td>\n",
       "      <td>0.930946</td>\n",
       "      <td>91.512788</td>\n",
       "    </tr>\n",
       "    <tr>\n",
       "      <th>3</th>\n",
       "      <td>3</td>\n",
       "      <td>851</td>\n",
       "      <td>14.98</td>\n",
       "      <td>125.801410</td>\n",
       "      <td>0.018373</td>\n",
       "      <td>587.172456</td>\n",
       "      <td>6.065805</td>\n",
       "      <td>258.138660</td>\n",
       "    </tr>\n",
       "    <tr>\n",
       "      <th>4</th>\n",
       "      <td>4</td>\n",
       "      <td>482</td>\n",
       "      <td>8.49</td>\n",
       "      <td>56.149378</td>\n",
       "      <td>0.029840</td>\n",
       "      <td>2771.582656</td>\n",
       "      <td>16.775934</td>\n",
       "      <td>1523.890041</td>\n",
       "    </tr>\n",
       "    <tr>\n",
       "      <th>5</th>\n",
       "      <td>5</td>\n",
       "      <td>364</td>\n",
       "      <td>6.41</td>\n",
       "      <td>92.151099</td>\n",
       "      <td>0.013011</td>\n",
       "      <td>1484.395275</td>\n",
       "      <td>11.997253</td>\n",
       "      <td>755.623626</td>\n",
       "    </tr>\n",
       "    <tr>\n",
       "      <th>6</th>\n",
       "      <td>6</td>\n",
       "      <td>624</td>\n",
       "      <td>10.99</td>\n",
       "      <td>192.171474</td>\n",
       "      <td>0.016260</td>\n",
       "      <td>89.819247</td>\n",
       "      <td>0.225962</td>\n",
       "      <td>24.331731</td>\n",
       "    </tr>\n",
       "    <tr>\n",
       "      <th>7</th>\n",
       "      <td>7</td>\n",
       "      <td>401</td>\n",
       "      <td>7.06</td>\n",
       "      <td>47.673317</td>\n",
       "      <td>0.040373</td>\n",
       "      <td>1903.204065</td>\n",
       "      <td>13.690773</td>\n",
       "      <td>962.154613</td>\n",
       "    </tr>\n",
       "    <tr>\n",
       "      <th>8</th>\n",
       "      <td>8</td>\n",
       "      <td>929</td>\n",
       "      <td>16.36</td>\n",
       "      <td>101.769645</td>\n",
       "      <td>0.019284</td>\n",
       "      <td>1050.478967</td>\n",
       "      <td>5.080732</td>\n",
       "      <td>470.316469</td>\n",
       "    </tr>\n",
       "    <tr>\n",
       "      <th>9</th>\n",
       "      <td>9</td>\n",
       "      <td>571</td>\n",
       "      <td>10.05</td>\n",
       "      <td>123.022767</td>\n",
       "      <td>0.021182</td>\n",
       "      <td>350.855289</td>\n",
       "      <td>0.873905</td>\n",
       "      <td>164.488616</td>\n",
       "    </tr>\n",
       "  </tbody>\n",
       "</table>\n",
       "</div>"
      ],
      "text/plain": [
       "   cluster  number_of_customers  percentual  avg_recency  avg_frequency  \\\n",
       "0        0                  487        8.57    30.172485       0.052795   \n",
       "1        1                  189        3.33   178.597884       0.018227   \n",
       "2        2                  782       13.77   183.681586       0.013896   \n",
       "3        3                  851       14.98   125.801410       0.018373   \n",
       "4        4                  482        8.49    56.149378       0.029840   \n",
       "5        5                  364        6.41    92.151099       0.013011   \n",
       "6        6                  624       10.99   192.171474       0.016260   \n",
       "7        7                  401        7.06    47.673317       0.040373   \n",
       "8        8                  929       16.36   101.769645       0.019284   \n",
       "9        9                  571       10.05   123.022767       0.021182   \n",
       "\n",
       "      avg_spent  number_of_cancellations  avg_quantity  \n",
       "0  10708.476448               162.745380   6309.527721  \n",
       "1      8.208095                 0.000000      1.550265  \n",
       "2    274.779156                 0.930946     91.512788  \n",
       "3    587.172456                 6.065805    258.138660  \n",
       "4   2771.582656                16.775934   1523.890041  \n",
       "5   1484.395275                11.997253    755.623626  \n",
       "6     89.819247                 0.225962     24.331731  \n",
       "7   1903.204065                13.690773    962.154613  \n",
       "8   1050.478967                 5.080732    470.316469  \n",
       "9    350.855289                 0.873905    164.488616  "
      ]
     },
     "execution_count": 54,
     "metadata": {},
     "output_type": "execute_result"
    }
   ],
   "source": [
    "prof = cluster_df.groupby('cluster').count()['customer_id'].reset_index().rename(columns={'customer_id': 'number_of_customers'})\n",
    "prof['percentual'] = round((cluster_df.groupby('cluster').count().reset_index()['customer_id']/cluster_df.shape[0])*100, 2)\n",
    "\n",
    "prof['avg_recency'] = cluster_df.groupby('cluster').mean().reset_index()['recency']\n",
    "\n",
    "prof['avg_frequency'] = cluster_df.groupby('cluster').mean().reset_index()['frequency']\n",
    "\n",
    "prof['avg_spent'] = cluster_df.groupby('cluster').mean().reset_index()['total_spent']\n",
    "\n",
    "prof['number_of_cancellations'] = cluster_df.groupby('cluster').mean().reset_index()['number_of_cancellations']\n",
    "\n",
    "prof['avg_quantity'] = cluster_df.groupby('cluster').mean().reset_index()['total_quantity']\n",
    "\n",
    "\n",
    "prof"
   ]
  },
  {
   "cell_type": "markdown",
   "id": "e8b1c388",
   "metadata": {},
   "source": [
    "![green-divider](https://user-images.githubusercontent.com/7065401/52071924-c003ad80-2562-11e9-8297-1c6595f8a7ff.png)\n"
   ]
  },
  {
   "attachments": {},
   "cell_type": "markdown",
   "id": "14a1ae90",
   "metadata": {},
   "source": [
    "# 11.0. Deploy to Production"
   ]
  },
  {
   "cell_type": "code",
   "execution_count": 61,
   "id": "a17c2e3c",
   "metadata": {},
   "outputs": [],
   "source": [
    "cluster_df['last_training_time'] = dt.datetime.now().strftime('%Y-%m-%d %H:%M:%S')"
   ]
  },
  {
   "cell_type": "code",
   "execution_count": 76,
   "id": "38e66726",
   "metadata": {},
   "outputs": [],
   "source": [
    "# Banco NA AWS\n",
    "variables_env = dotenv.dotenv_values('../vars/.env')\n",
    "\n",
    "host = variables_env['HOST']\n",
    "port = variables_env['PORT']\n",
    "database =variables_env['DATABASE']\n",
    "user=variables_env['USER']\n",
    "pwd=variables_env['PASSWORD']\n",
    "\n",
    "endpoint = f'postgresql+psycopg2://{user}:{pwd}@{host}:{port}/postgres'\n",
    "\n",
    "engine = create_engine(endpoint)\n",
    "con = engine.connect()"
   ]
  },
  {
   "cell_type": "code",
   "execution_count": 77,
   "id": "77d9b7f5",
   "metadata": {},
   "outputs": [
    {
     "data": {
      "text/plain": [
       "<sqlalchemy.engine.cursor.LegacyCursorResult at 0x16287ee2400>"
      ]
     },
     "execution_count": 77,
     "metadata": {},
     "output_type": "execute_result"
    }
   ],
   "source": [
    "query_create_table_insiders = 'TRUNCATE TABLE insiders'\n",
    "con.execute(query_create_table_insiders)"
   ]
  },
  {
   "cell_type": "code",
   "execution_count": 78,
   "id": "01571941",
   "metadata": {},
   "outputs": [
    {
     "data": {
      "text/plain": [
       "<sqlalchemy.engine.cursor.LegacyCursorResult at 0x162884eb2b0>"
      ]
     },
     "execution_count": 78,
     "metadata": {},
     "output_type": "execute_result"
    }
   ],
   "source": [
    "query_create_table_insiders = \"\"\"\n",
    "    CREATE TABLE IF NOT EXISTS insiders(\n",
    "        customer_id                 INTEGER,\n",
    "        recency                     INTEGER,\n",
    "        frequency                   REAL,\n",
    "        total_spent                 REAL,\n",
    "        total_quantity              INTEGER,\n",
    "        number_of_cancellations     INTEGER,\n",
    "        cluster                     INTEGER,\n",
    "        last_training_time          TEXT\n",
    "    )\"\"\"\n",
    "\n",
    "# Create Table\n",
    "\n",
    "con.execute(query_create_table_insiders)"
   ]
  },
  {
   "cell_type": "code",
   "execution_count": 79,
   "id": "db078310",
   "metadata": {},
   "outputs": [
    {
     "data": {
      "text/plain": [
       "680"
      ]
     },
     "execution_count": 79,
     "metadata": {},
     "output_type": "execute_result"
    }
   ],
   "source": [
    "# Inser Data\n",
    "cluster_df.to_sql('insiders', con=con, if_exists='append', index=False)"
   ]
  },
  {
   "cell_type": "code",
   "execution_count": 80,
   "id": "5cf3330c",
   "metadata": {},
   "outputs": [],
   "source": [
    "test = pd.read_sql('SELECT * FROM insiders', con=con)\n",
    "\n",
    "combined = pd.concat([test, cluster_df], axis=0)\n",
    "cols = combined.drop(columns='last_training_time').columns.to_list()\n",
    "combined = combined.drop_duplicates(subset=cols, keep='last')\n",
    "\n",
    "combined.to_sql('insiders', con=con, if_exists='replace', index=False)\n",
    "\n",
    "con.close()"
   ]
  }
 ],
 "metadata": {
  "kernelspec": {
   "display_name": "Python 3 (ipykernel)",
   "language": "python",
   "name": "python3"
  },
  "language_info": {
   "codemirror_mode": {
    "name": "ipython",
    "version": 3
   },
   "file_extension": ".py",
   "mimetype": "text/x-python",
   "name": "python",
   "nbconvert_exporter": "python",
   "pygments_lexer": "ipython3",
   "version": "3.9.12"
  },
  "toc-autonumbering": false
 },
 "nbformat": 4,
 "nbformat_minor": 5
}
