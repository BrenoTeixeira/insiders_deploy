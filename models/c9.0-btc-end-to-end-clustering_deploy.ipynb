{
 "cells": [
  {
   "cell_type": "markdown",
   "id": "9073085f",
   "metadata": {},
   "source": [
    "# Data Dictionary"
   ]
  },
  {
   "attachments": {},
   "cell_type": "markdown",
   "id": "0d89a659",
   "metadata": {},
   "source": [
    "|Attribute|Description\n",
    "----------|-----------\n",
    "InvoiceNo| Invoice number. Nominal, a 6-digit integral number uniquely assigned to each transaction. If this code starts with letter 'c', it indicates a cancellation.\n",
    "StockCode| Product (item) code. Nominal, a 5-digit integral number uniquely assigned to each distinct product.\n",
    "Description| Product (item) name. Nominal.\n",
    "Quantity| The quantities of each product (item) per transaction. Numeric.\n",
    "InvoiceDate| Invoice Date and time. Numeric, the day and time when each transaction was generated.\n",
    "UnitPrice| Unit price. Numeric, Product price per unit in sterling.\n",
    "CustomerID| Customer number. Nominal, a 5-digit integral number uniquely assigned to each customer.\n",
    "Country| Country name. Nominal, the name of the country where each customer resides."
   ]
  },
  {
   "cell_type": "markdown",
   "id": "2609c82f",
   "metadata": {},
   "source": [
    "# 0.0 Imports"
   ]
  },
  {
   "cell_type": "code",
   "execution_count": 78,
   "id": "853d47f7-279c-4ae6-b099-cf83fc4471e9",
   "metadata": {},
   "outputs": [],
   "source": [
    "import pandas as pd\n",
    "import inflection\n",
    "from src import GeneralUtils  as gu\n",
    "import seaborn as sns\n",
    "import matplotlib.pyplot as plt\n",
    "import plotly.express as px\n",
    "import matplotlib.cm as cm\n",
    "import numpy as np\n",
    "import scipy.stats as st\n",
    "from scipy.stats import kstest\n",
    "\n",
    "import umap.umap_ as um\n",
    "from sklearn.decomposition import PCA\n",
    "import sklearn.metrics as mt\n",
    "from sklearn.pipeline import Pipeline\n",
    "from sklearn.compose import ColumnTransformer\n",
    "import sklearn.preprocessing as pp\n",
    "import sklearn.manifold as man\n",
    "\n",
    "from sklearn.ensemble import RandomForestRegressor\n",
    "from sklearn.cluster import KMeans, AgglomerativeClustering\n",
    "import sklearn.mixture as mix\n",
    "from scipy.cluster.hierarchy import dendrogram, ward, linkage, fcluster\n",
    "\n",
    "import dotenv\n",
    "import datetime as dt\n",
    "import sqlite3\n",
    "from sqlalchemy import create_engine"
   ]
  },
  {
   "attachments": {},
   "cell_type": "markdown",
   "id": "4a125e8f-f4ca-40ef-8b6c-d4aae2c50319",
   "metadata": {},
   "source": [
    "# 0.1 Load Data"
   ]
  },
  {
   "cell_type": "code",
   "execution_count": 79,
   "id": "356ebf4f-339c-469b-a40a-f51ecfe7d238",
   "metadata": {},
   "outputs": [],
   "source": [
    "secret = dotenv.dotenv_values('../vars/.env')['SECRET_KEY']\n",
    "key = dotenv.dotenv_values('../vars/.env')['ACCESS_KEY']\n",
    "\n",
    "path_s3 = 's3://insider-data-bucket/'\n",
    "df_raw = pd.read_csv(path_s3 +  'Ecommerce.csv', \n",
    "                     encoding='ISO-8859-1',\n",
    "                     storage_options={'key': key,\n",
    "                                      'secret': secret})\n",
    "#df_raw = pd.read_csv('../data/raw/Ecommerce.csv', encoding='ISO-8859-1')"
   ]
  },
  {
   "cell_type": "markdown",
   "id": "a2ba3ea1",
   "metadata": {},
   "source": [
    "![green-divider](https://user-images.githubusercontent.com/7065401/52071924-c003ad80-2562-11e9-8297-1c6595f8a7ff.png)\n"
   ]
  },
  {
   "attachments": {},
   "cell_type": "markdown",
   "id": "740d3d4b",
   "metadata": {},
   "source": [
    "# 1.0. Data Description"
   ]
  },
  {
   "cell_type": "code",
   "execution_count": 80,
   "id": "362bdcee",
   "metadata": {},
   "outputs": [],
   "source": [
    "df_description = df_raw.drop('Unnamed: 8', axis=1)"
   ]
  },
  {
   "attachments": {},
   "cell_type": "markdown",
   "id": "48396720",
   "metadata": {},
   "source": [
    "## 1.1. Renaming Columns"
   ]
  },
  {
   "cell_type": "code",
   "execution_count": 81,
   "id": "a88d79f0",
   "metadata": {},
   "outputs": [],
   "source": [
    "old_cols = ['InvoiceNo', 'StockCode', 'Description', 'Quantity','InvoiceDate', 'UnitPrice', 'CustomerID', 'Country']\n",
    "\n",
    "snakecase = lambda x: inflection.underscore(x)\n",
    "new_cols = list(map(snakecase, old_cols))\n",
    "\n",
    "df_description.columns = new_cols"
   ]
  },
  {
   "cell_type": "code",
   "execution_count": 82,
   "id": "bcf4e2fa",
   "metadata": {},
   "outputs": [],
   "source": [
    "df_description['description'] = df_description['description'].str.lower()"
   ]
  },
  {
   "attachments": {},
   "cell_type": "markdown",
   "id": "201c8e8a",
   "metadata": {},
   "source": [
    "## 1.4.  Handling Missing Values"
   ]
  },
  {
   "attachments": {},
   "cell_type": "markdown",
   "id": "7e27667e",
   "metadata": {},
   "source": [
    "**I will add a custom customer ID for each unique inovice number with a missing customer ID**\n",
    "\n",
    "Issue: Doing this, these new customers' IDs will only have one transaction, but this might be better than removing all this data."
   ]
  },
  {
   "cell_type": "code",
   "execution_count": 83,
   "id": "ecc15017",
   "metadata": {},
   "outputs": [],
   "source": [
    "df_missing = df_description.query('customer_id.isnull()')\n",
    "missing_invoice_no = df_missing[['invoice_no']].drop_duplicates()\n",
    "missing_invoice_no['customer_id'] = np.arange(19000, 19000+len(missing_invoice_no))\n",
    "df_description = df_description.merge(missing_invoice_no, on='invoice_no', how='left')\n",
    "df_description['customer_id'] = df_description['customer_id_x'].combine_first(df_description['customer_id_y'])\n",
    "df_clean = df_description.drop(columns=['customer_id_x', 'customer_id_y'])"
   ]
  },
  {
   "attachments": {},
   "cell_type": "markdown",
   "id": "3951a098",
   "metadata": {},
   "source": [
    "## 1.5. Fixing Data Types"
   ]
  },
  {
   "cell_type": "code",
   "execution_count": 84,
   "id": "0bbe166b",
   "metadata": {},
   "outputs": [],
   "source": [
    "df_clean.invoice_date = pd.to_datetime(df_clean.invoice_date)\n",
    "df_clean.customer_id = df_clean.customer_id.astype(int)"
   ]
  },
  {
   "attachments": {},
   "cell_type": "markdown",
   "id": "88510dc2",
   "metadata": {},
   "source": [
    "## 1.6. Descriptive Statistics"
   ]
  },
  {
   "cell_type": "markdown",
   "id": "595581a9",
   "metadata": {},
   "source": [
    "### 1.6.1 Numerical Attributes"
   ]
  },
  {
   "cell_type": "code",
   "execution_count": 85,
   "id": "65e44fc7",
   "metadata": {},
   "outputs": [],
   "source": [
    "num_att = df_clean.select_dtypes(include=['float64', 'int64'])\n",
    "cat_att = df_clean.select_dtypes(exclude=['float64', 'int64', 'datetime64[ns]'])"
   ]
  },
  {
   "attachments": {},
   "cell_type": "markdown",
   "id": "834e6413",
   "metadata": {},
   "source": [
    "### 1.6.2 Categorical Attributes"
   ]
  },
  {
   "attachments": {},
   "cell_type": "markdown",
   "id": "5515c89c",
   "metadata": {},
   "source": [
    "**Invoice Number with at least one string**"
   ]
  },
  {
   "cell_type": "code",
   "execution_count": 86,
   "id": "2495d2b5",
   "metadata": {},
   "outputs": [
    {
     "name": "stdout",
     "output_type": "stream",
     "text": [
      "Total Number of Cancellation invoices: 9288\n",
      "Total Number of Negative quantites: 9288\n"
     ]
    }
   ],
   "source": [
    "# df_description.inoice_no.astype(int)\n",
    "letter_invoices = df_clean.loc[df_description.invoice_no.str.contains('C')]\n",
    "\n",
    "print('Total Number of Cancellation invoices:', len(letter_invoices))\n",
    "print('Total Number of Negative quantites:', len(letter_invoices.query('quantity < 0')))"
   ]
  },
  {
   "cell_type": "markdown",
   "id": "ac5d45f4",
   "metadata": {},
   "source": [
    "![green-divider](https://user-images.githubusercontent.com/7065401/52071924-c003ad80-2562-11e9-8297-1c6595f8a7ff.png)\n"
   ]
  },
  {
   "attachments": {},
   "cell_type": "markdown",
   "id": "435c9ba4",
   "metadata": {},
   "source": [
    "# 2.0. Variables Filtering"
   ]
  },
  {
   "cell_type": "code",
   "execution_count": 87,
   "id": "f4be563b",
   "metadata": {},
   "outputs": [],
   "source": [
    "df_filter = df_clean.copy()"
   ]
  },
  {
   "attachments": {},
   "cell_type": "markdown",
   "id": "a18cde1a",
   "metadata": {},
   "source": [
    "## 2.1. Numerical"
   ]
  },
  {
   "attachments": {},
   "cell_type": "markdown",
   "id": "1cebc577",
   "metadata": {},
   "source": [
    "By the description of the items with a negative quantity and are not cancellations, it seems like they are some mistakes or an issue with the product. Since these instances don't represent actual sales, we will remove them from the dataset."
   ]
  },
  {
   "cell_type": "code",
   "execution_count": 88,
   "id": "1abed54b",
   "metadata": {},
   "outputs": [],
   "source": [
    "df_filter = df_filter.query(\"~(quantity <= 0 & invoice_no.str.isdigit())\")"
   ]
  },
  {
   "cell_type": "markdown",
   "id": "bb3ddcc0",
   "metadata": {},
   "source": [
    "**Unit prices very close to zero**"
   ]
  },
  {
   "attachments": {},
   "cell_type": "markdown",
   "id": "2f9b22a7",
   "metadata": {},
   "source": [
    "Half of the instances don't have a description, which makes it harder to define what these instances mean. Therefore, they will be removed (unit price < 0.004)."
   ]
  },
  {
   "cell_type": "code",
   "execution_count": 89,
   "id": "244fefd5",
   "metadata": {},
   "outputs": [],
   "source": [
    "df_filter = df_filter.query('unit_price >= 0.004')"
   ]
  },
  {
   "attachments": {},
   "cell_type": "markdown",
   "id": "7cc93481",
   "metadata": {},
   "source": [
    "## 2.2. Categorical"
   ]
  },
  {
   "cell_type": "code",
   "execution_count": 90,
   "id": "4888ae46",
   "metadata": {},
   "outputs": [],
   "source": [
    "# removing stock_codes that are only letters\n",
    "df_filter = df_filter.query(\"~stock_code.isin(['POST', 'D', 'DOT', 'M', 'S', 'AMAZONFEE', 'm', 'DCGSSBOY', 'DCGSSGIRL', 'PADS', 'B', 'CRUK'])\")\n",
    "\n",
    "# removing European Community and Unspecified\n",
    "df_filter = df_filter.query(\"~country.isin(['European Community', 'Unspecified'])\")\n",
    "\n",
    "country_dict = {'EIRE': 'Ireland', 'RSA': 'South Africa', 'USA': 'United States', 'Channel Islands': 'United Kingdom'}\n",
    "\n",
    "countries_to_modify = ['USA', 'Channel Islands', 'RSA', 'EIRE']\n",
    "\n",
    "df_filter.country = df_filter.country.apply(lambda x: country_dict[x] if x in countries_to_modify else x)"
   ]
  },
  {
   "cell_type": "code",
   "execution_count": 91,
   "id": "e4c392f6",
   "metadata": {},
   "outputs": [
    {
     "name": "stdout",
     "output_type": "stream",
     "text": [
      "Removed data: 1.064%\n",
      "Number of Elements Removed: 5765\n"
     ]
    }
   ],
   "source": [
    "# description\n",
    "print(f'Removed data: {1 - (df_filter.shape[0]/df_clean.shape[0]):.3%}')\n",
    "print(f'Number of Elements Removed: {df_clean.shape[0] - df_filter.shape[0]}')"
   ]
  },
  {
   "cell_type": "code",
   "execution_count": 92,
   "id": "00bbf8b1",
   "metadata": {},
   "outputs": [
    {
     "name": "stdout",
     "output_type": "stream",
     "text": [
      "Number of rows Cancelation: 8730\n",
      "Number of rows Transaction: 527414\n"
     ]
    }
   ],
   "source": [
    "print('Number of rows Cancelation:', df_filter.query(\"quantity < 0 or invoice_no.str.contains('C')\").shape[0])\n",
    "print('Number of rows Transaction:', df_filter.query('quantity > 0').shape[0])"
   ]
  },
  {
   "cell_type": "markdown",
   "id": "41a71287",
   "metadata": {},
   "source": [
    "![green-divider](https://user-images.githubusercontent.com/7065401/52071924-c003ad80-2562-11e9-8297-1c6595f8a7ff.png)\n"
   ]
  },
  {
   "attachments": {},
   "cell_type": "markdown",
   "id": "34c998d9",
   "metadata": {},
   "source": [
    "# 3.0. Feature Engineering"
   ]
  },
  {
   "cell_type": "code",
   "execution_count": 93,
   "id": "1e743fcf",
   "metadata": {},
   "outputs": [],
   "source": [
    "df_feature = df_filter.copy()\n",
    "df_feature_cancelation = df_filter.query(\"quantity < 0 or invoice_no.str.contains('C')\").copy()\n",
    "df_feature_transaction = df_filter.query('quantity > 0').copy()"
   ]
  },
  {
   "cell_type": "code",
   "execution_count": 94,
   "id": "c6b61dbd",
   "metadata": {},
   "outputs": [],
   "source": [
    "df_ref = df_feature.drop_duplicates('customer_id')"
   ]
  },
  {
   "cell_type": "markdown",
   "id": "04b22304",
   "metadata": {},
   "source": [
    "**Latitude and Longitude of the countries**"
   ]
  },
  {
   "cell_type": "code",
   "execution_count": 95,
   "id": "6104570a",
   "metadata": {},
   "outputs": [
    {
     "data": {
      "text/html": [
       "<div>\n",
       "<style scoped>\n",
       "    .dataframe tbody tr th:only-of-type {\n",
       "        vertical-align: middle;\n",
       "    }\n",
       "\n",
       "    .dataframe tbody tr th {\n",
       "        vertical-align: top;\n",
       "    }\n",
       "\n",
       "    .dataframe thead th {\n",
       "        text-align: right;\n",
       "    }\n",
       "</style>\n",
       "<table border=\"1\" class=\"dataframe\">\n",
       "  <thead>\n",
       "    <tr style=\"text-align: right;\">\n",
       "      <th></th>\n",
       "      <th>country</th>\n",
       "      <th>latitude</th>\n",
       "      <th>longitude</th>\n",
       "      <th>name</th>\n",
       "    </tr>\n",
       "  </thead>\n",
       "  <tbody>\n",
       "    <tr>\n",
       "      <th>0</th>\n",
       "      <td>AD</td>\n",
       "      <td>42.546245</td>\n",
       "      <td>1.601554</td>\n",
       "      <td>Andorra</td>\n",
       "    </tr>\n",
       "    <tr>\n",
       "      <th>1</th>\n",
       "      <td>AE</td>\n",
       "      <td>23.424076</td>\n",
       "      <td>53.847818</td>\n",
       "      <td>United Arab Emirates</td>\n",
       "    </tr>\n",
       "    <tr>\n",
       "      <th>2</th>\n",
       "      <td>AF</td>\n",
       "      <td>33.939110</td>\n",
       "      <td>67.709953</td>\n",
       "      <td>Afghanistan</td>\n",
       "    </tr>\n",
       "    <tr>\n",
       "      <th>3</th>\n",
       "      <td>AG</td>\n",
       "      <td>17.060816</td>\n",
       "      <td>-61.796428</td>\n",
       "      <td>Antigua and Barbuda</td>\n",
       "    </tr>\n",
       "    <tr>\n",
       "      <th>4</th>\n",
       "      <td>AI</td>\n",
       "      <td>18.220554</td>\n",
       "      <td>-63.068615</td>\n",
       "      <td>Anguilla</td>\n",
       "    </tr>\n",
       "  </tbody>\n",
       "</table>\n",
       "</div>"
      ],
      "text/plain": [
       "  country   latitude  longitude                  name\n",
       "0      AD  42.546245   1.601554               Andorra\n",
       "1      AE  23.424076  53.847818  United Arab Emirates\n",
       "2      AF  33.939110  67.709953           Afghanistan\n",
       "3      AG  17.060816 -61.796428   Antigua and Barbuda\n",
       "4      AI  18.220554 -63.068615              Anguilla"
      ]
     },
     "execution_count": 95,
     "metadata": {},
     "output_type": "execute_result"
    }
   ],
   "source": [
    "countries_lat_long = pd.read_csv('../data/external/countries.csv')\n",
    "countries_lat_long.head()"
   ]
  },
  {
   "cell_type": "code",
   "execution_count": 96,
   "id": "a3012ade",
   "metadata": {},
   "outputs": [],
   "source": [
    "countries_lat_long.rename(columns={'name': 'country', 'country': 'code'}, inplace=True)"
   ]
  },
  {
   "attachments": {},
   "cell_type": "markdown",
   "id": "b912fb8e",
   "metadata": {},
   "source": [
    "**Recency, Frequency and Monetary**"
   ]
  },
  {
   "cell_type": "code",
   "execution_count": 97,
   "id": "0ad44325",
   "metadata": {},
   "outputs": [],
   "source": [
    "df_feature['gross_revenue'] = df_feature.quantity * df_feature.unit_price\n",
    "\n",
    "# Recency\n",
    "diff = df_filter.invoice_date.max() - df_feature_transaction.groupby('customer_id').max()['invoice_date']\n",
    "recency = pd.DataFrame(diff).reset_index().rename(columns={'invoice_date': 'recency'})\n",
    "\n",
    "recency['recency'] = recency['recency'].dt.days\n",
    "df_ref = df_ref.merge((recency), how='left', on='customer_id')\n"
   ]
  },
  {
   "cell_type": "code",
   "execution_count": 98,
   "id": "7599b4b2",
   "metadata": {},
   "outputs": [],
   "source": [
    "# Frequency\n",
    "min_date = df_feature.invoice_date.min()\n",
    "max_date = df_feature.invoice_date.max()\n",
    "aux = df_feature_transaction.groupby('customer_id').agg( max_ = ('invoice_date', 'max'), \n",
    "                                       min_ = ('invoice_date', 'min'),\n",
    "                                       #days_ = ('invoice_date', lambda x: (max_date - min_date).days + 1),\n",
    "                                       days_ = ('invoice_date', lambda x: (max_date - x.min()).days + 1),\n",
    "                                       buy_ = ('invoice_no', 'nunique'),\n",
    "                                      ).reset_index()\n",
    "\n",
    "aux['frequency'] = aux.buy_/aux.days_\n",
    "aux['frequency'] = aux.buy_/aux.days_\n",
    "\n",
    "df_ref = df_ref.merge(aux[['customer_id', 'frequency']], on='customer_id', how='left')"
   ]
  },
  {
   "cell_type": "code",
   "execution_count": 99,
   "id": "f624fe54",
   "metadata": {},
   "outputs": [],
   "source": [
    "# Total Spent\n",
    "monetary = df_feature.groupby('customer_id').sum(numeric_only=True).gross_revenue.reset_index().rename(columns={'gross_revenue': 'total_spent'})\n",
    "df_ref = df_ref.merge((monetary), how='left', on='customer_id')"
   ]
  },
  {
   "attachments": {},
   "cell_type": "markdown",
   "id": "575d749e",
   "metadata": {},
   "source": [
    "**Number of transactions, Variety, Average Ticket and Average Basket Size**"
   ]
  },
  {
   "cell_type": "code",
   "execution_count": 100,
   "id": "72294ee5",
   "metadata": {},
   "outputs": [],
   "source": [
    "# Transactions\n",
    "transactions = df_feature.groupby('customer_id').nunique()[['invoice_no']].reset_index().rename(columns={'invoice_no': 'transactions'})\n",
    "df_ref = df_ref.merge((transactions), how='left', on='customer_id')"
   ]
  },
  {
   "cell_type": "code",
   "execution_count": 101,
   "id": "99dd43da",
   "metadata": {},
   "outputs": [],
   "source": [
    "# Average Ticket\n",
    "avg_ticket = df_feature.groupby(['customer_id', 'invoice_no']).sum(numeric_only=True).gross_revenue.reset_index().rename(columns={'gross_revenue': 'avg_ticket'}).groupby('customer_id').mean(numeric_only=True).reset_index()\n",
    "df_ref = df_ref.merge((avg_ticket), how='left', on='customer_id')"
   ]
  },
  {
   "cell_type": "code",
   "execution_count": 102,
   "id": "923d9f88",
   "metadata": {},
   "outputs": [],
   "source": [
    "# Product Variety\n",
    "product_variety = df_feature_transaction.groupby('customer_id').nunique()[['description']].reset_index().rename(columns={'description': 'product_variety'})\n",
    "df_ref = df_ref.merge((product_variety), how='left', on='customer_id')"
   ]
  },
  {
   "cell_type": "code",
   "execution_count": 103,
   "id": "832a481c",
   "metadata": {},
   "outputs": [],
   "source": [
    "# Average Basket Size \n",
    "avg_basket = df_feature[['customer_id', 'invoice_no', 'quantity']].groupby(['customer_id', 'invoice_no']).sum()\\\n",
    "                                                                                                                .reset_index().groupby('customer_id').mean(numeric_only=True)\\\n",
    "                                                                                                                .reset_index().rename(columns={'quantity': 'avg_basket'})\n",
    "df_ref = df_ref.merge((avg_basket), how='left', on='customer_id')"
   ]
  },
  {
   "cell_type": "code",
   "execution_count": 104,
   "id": "df8011bc",
   "metadata": {},
   "outputs": [],
   "source": [
    "# Average Basket Variety Size\n",
    "avg_basket_var = df_feature_transaction[['customer_id', 'invoice_no', 'stock_code']].groupby(['customer_id', 'invoice_no']).nunique()\\\n",
    "                                                                                                                .reset_index().groupby('customer_id').mean(numeric_only=True)\\\n",
    "                                                                                                                .reset_index().rename(columns={'stock_code': 'avg_basket_variety'})\n",
    "df_ref = df_ref.merge(avg_basket_var, how='left', on='customer_id')"
   ]
  },
  {
   "attachments": {},
   "cell_type": "markdown",
   "id": "3906dc3c",
   "metadata": {},
   "source": [
    "**Average Recency, Total Cancelltions, Quantity** - <font color='red'>Average Recency Removed</font>"
   ]
  },
  {
   "cell_type": "code",
   "execution_count": 105,
   "id": "870346a3",
   "metadata": {},
   "outputs": [],
   "source": [
    "cancelations = df_feature_cancelation[['customer_id', 'quantity']].groupby('customer_id').apply(lambda c: c.abs().sum())[['quantity']].reset_index().rename(columns={'quantity': 'number_of_cancellations'})\n",
    "df_ref = df_ref.merge(cancelations, how='left', on='customer_id')"
   ]
  },
  {
   "cell_type": "code",
   "execution_count": 106,
   "id": "f223e2f4",
   "metadata": {},
   "outputs": [],
   "source": [
    "# Total Quantity\n",
    "quantity = df_feature.groupby('customer_id').sum(numeric_only=True).quantity.reset_index().rename(columns={'quantity': 'total_quantity'})\n",
    "df_ref = df_ref.merge(quantity, how='left', on='customer_id')"
   ]
  },
  {
   "attachments": {},
   "cell_type": "markdown",
   "id": "34ff99d0",
   "metadata": {},
   "source": [
    "Some customers only have cancellations, they need to be removed."
   ]
  },
  {
   "cell_type": "code",
   "execution_count": 108,
   "id": "c61193c2",
   "metadata": {},
   "outputs": [
    {
     "data": {
      "text/html": [
       "<div>\n",
       "<style scoped>\n",
       "    .dataframe tbody tr th:only-of-type {\n",
       "        vertical-align: middle;\n",
       "    }\n",
       "\n",
       "    .dataframe tbody tr th {\n",
       "        vertical-align: top;\n",
       "    }\n",
       "\n",
       "    .dataframe thead th {\n",
       "        text-align: right;\n",
       "    }\n",
       "</style>\n",
       "<table border=\"1\" class=\"dataframe\">\n",
       "  <thead>\n",
       "    <tr style=\"text-align: right;\">\n",
       "      <th></th>\n",
       "      <th>customer_id</th>\n",
       "      <th>country</th>\n",
       "      <th>recency</th>\n",
       "      <th>frequency</th>\n",
       "      <th>total_spent</th>\n",
       "      <th>transactions</th>\n",
       "      <th>total_quantity</th>\n",
       "      <th>avg_ticket</th>\n",
       "      <th>product_variety</th>\n",
       "      <th>avg_basket</th>\n",
       "      <th>avg_basket_variety</th>\n",
       "      <th>number_of_cancellations</th>\n",
       "    </tr>\n",
       "  </thead>\n",
       "  <tbody>\n",
       "    <tr>\n",
       "      <th>0</th>\n",
       "      <td>17850</td>\n",
       "      <td>United Kingdom</td>\n",
       "      <td>372.0</td>\n",
       "      <td>0.090909</td>\n",
       "      <td>5288.63</td>\n",
       "      <td>35</td>\n",
       "      <td>1693</td>\n",
       "      <td>151.103714</td>\n",
       "      <td>21.0</td>\n",
       "      <td>48.371429</td>\n",
       "      <td>8.735294</td>\n",
       "      <td>40.0</td>\n",
       "    </tr>\n",
       "    <tr>\n",
       "      <th>1</th>\n",
       "      <td>13047</td>\n",
       "      <td>United Kingdom</td>\n",
       "      <td>56.0</td>\n",
       "      <td>0.024064</td>\n",
       "      <td>3089.10</td>\n",
       "      <td>16</td>\n",
       "      <td>1355</td>\n",
       "      <td>193.068750</td>\n",
       "      <td>105.0</td>\n",
       "      <td>84.687500</td>\n",
       "      <td>19.000000</td>\n",
       "      <td>35.0</td>\n",
       "    </tr>\n",
       "    <tr>\n",
       "      <th>2</th>\n",
       "      <td>12583</td>\n",
       "      <td>France</td>\n",
       "      <td>2.0</td>\n",
       "      <td>0.040107</td>\n",
       "      <td>6629.34</td>\n",
       "      <td>17</td>\n",
       "      <td>4978</td>\n",
       "      <td>389.961176</td>\n",
       "      <td>116.0</td>\n",
       "      <td>292.823529</td>\n",
       "      <td>15.466667</td>\n",
       "      <td>50.0</td>\n",
       "    </tr>\n",
       "    <tr>\n",
       "      <th>3</th>\n",
       "      <td>13748</td>\n",
       "      <td>United Kingdom</td>\n",
       "      <td>95.0</td>\n",
       "      <td>0.013369</td>\n",
       "      <td>948.25</td>\n",
       "      <td>5</td>\n",
       "      <td>439</td>\n",
       "      <td>189.650000</td>\n",
       "      <td>24.0</td>\n",
       "      <td>87.800000</td>\n",
       "      <td>5.600000</td>\n",
       "      <td>NaN</td>\n",
       "    </tr>\n",
       "    <tr>\n",
       "      <th>4</th>\n",
       "      <td>15100</td>\n",
       "      <td>United Kingdom</td>\n",
       "      <td>333.0</td>\n",
       "      <td>0.008021</td>\n",
       "      <td>635.10</td>\n",
       "      <td>6</td>\n",
       "      <td>58</td>\n",
       "      <td>105.850000</td>\n",
       "      <td>1.0</td>\n",
       "      <td>9.666667</td>\n",
       "      <td>1.000000</td>\n",
       "      <td>22.0</td>\n",
       "    </tr>\n",
       "  </tbody>\n",
       "</table>\n",
       "</div>"
      ],
      "text/plain": [
       "   customer_id         country  recency  frequency  total_spent  transactions  \\\n",
       "0        17850  United Kingdom    372.0   0.090909      5288.63            35   \n",
       "1        13047  United Kingdom     56.0   0.024064      3089.10            16   \n",
       "2        12583          France      2.0   0.040107      6629.34            17   \n",
       "3        13748  United Kingdom     95.0   0.013369       948.25             5   \n",
       "4        15100  United Kingdom    333.0   0.008021       635.10             6   \n",
       "\n",
       "   total_quantity  avg_ticket  product_variety  avg_basket  \\\n",
       "0            1693  151.103714             21.0   48.371429   \n",
       "1            1355  193.068750            105.0   84.687500   \n",
       "2            4978  389.961176            116.0  292.823529   \n",
       "3             439  189.650000             24.0   87.800000   \n",
       "4              58  105.850000              1.0    9.666667   \n",
       "\n",
       "   avg_basket_variety  number_of_cancellations  \n",
       "0            8.735294                     40.0  \n",
       "1           19.000000                     35.0  \n",
       "2           15.466667                     50.0  \n",
       "3            5.600000                      NaN  \n",
       "4            1.000000                     22.0  "
      ]
     },
     "execution_count": 108,
     "metadata": {},
     "output_type": "execute_result"
    }
   ],
   "source": [
    "columns = ['customer_id', 'country', 'recency', 'frequency', 'total_spent', 'transactions', 'total_quantity', 'avg_ticket', 'product_variety', 'avg_basket', 'avg_basket_variety', 'number_of_cancellations']\n",
    "df_customers = df_ref.drop_duplicates('customer_id').copy()[columns]\n",
    "df_customers.head()"
   ]
  },
  {
   "attachments": {},
   "cell_type": "markdown",
   "id": "38804ed5",
   "metadata": {},
   "source": [
    "The number of cancelations with null values are customers with no cancellations.\n",
    "\n",
    "I want to focus on customers who have made purchases. Therefore I will remove those with a negative monetary values, which may mean they have more canceled orders than purchases."
   ]
  },
  {
   "cell_type": "code",
   "execution_count": 110,
   "id": "58b2f384",
   "metadata": {},
   "outputs": [
    {
     "name": "stdout",
     "output_type": "stream",
     "text": [
      "Items Removed: 101\n"
     ]
    }
   ],
   "source": [
    "# fill null values for number of cancellations\n",
    "df_customers['number_of_cancellations'] = df_customers['number_of_cancellations'].fillna(0)\n",
    "df_customers_clean = df_customers.query('(total_spent > 0)')\n",
    "\n",
    "print('Items Removed:', df_customers.shape[0] - df_customers_clean.shape[0])"
   ]
  },
  {
   "cell_type": "markdown",
   "id": "8a9e19a8",
   "metadata": {},
   "source": [
    "After filtering the dataset, I will add the longitude and latitude for the countries."
   ]
  },
  {
   "cell_type": "code",
   "execution_count": 112,
   "id": "9272453c",
   "metadata": {},
   "outputs": [],
   "source": [
    "df_customers_clean = df_customers_clean.merge(countries_lat_long, on='country', how='left')"
   ]
  },
  {
   "cell_type": "markdown",
   "id": "53a086f3",
   "metadata": {},
   "source": [
    "![green-divider](https://user-images.githubusercontent.com/7065401/52071924-c003ad80-2562-11e9-8297-1c6595f8a7ff.png)\n"
   ]
  },
  {
   "attachments": {},
   "cell_type": "markdown",
   "id": "cf7cbd0a",
   "metadata": {},
   "source": [
    "# 4.0. Exploratory Data Analysis"
   ]
  },
  {
   "cell_type": "code",
   "execution_count": 113,
   "id": "b68713ff",
   "metadata": {},
   "outputs": [],
   "source": [
    "df_eda = df_customers_clean.copy().drop(columns='code', axis=0)"
   ]
  },
  {
   "cell_type": "markdown",
   "id": "5b5c5f9c",
   "metadata": {},
   "source": [
    "**Removing bad users**"
   ]
  },
  {
   "cell_type": "code",
   "execution_count": 114,
   "id": "49a90041",
   "metadata": {},
   "outputs": [],
   "source": [
    "df_eda = df_eda.query('~(customer_id == 16446)').copy()"
   ]
  },
  {
   "cell_type": "markdown",
   "id": "b58fdd74",
   "metadata": {},
   "source": [
    "![green-divider](https://user-images.githubusercontent.com/7065401/52071924-c003ad80-2562-11e9-8297-1c6595f8a7ff.png)\n"
   ]
  },
  {
   "attachments": {},
   "cell_type": "markdown",
   "id": "b6b1b08e",
   "metadata": {},
   "source": [
    "# 5.0. Data Preparation"
   ]
  },
  {
   "cell_type": "code",
   "execution_count": 115,
   "id": "6b2d17ab",
   "metadata": {},
   "outputs": [],
   "source": [
    "df_prep = df_eda.copy()"
   ]
  },
  {
   "cell_type": "code",
   "execution_count": 116,
   "id": "6d8c9ba2",
   "metadata": {},
   "outputs": [],
   "source": [
    "std = Pipeline([('standard', pp.StandardScaler())])\n",
    "minmax = Pipeline([('minmax', pp.MinMaxScaler())])\n",
    "robust = Pipeline([('robust', pp.RobustScaler())])\n",
    "cols = ['recency', 'frequency', 'total_spent', 'total_quantity', 'transactions', 'avg_ticket', 'product_variety', 'avg_basket', 'number_of_cancellations', 'latitude', 'longitude']\n",
    "pass_cols = ['customer_id'] \n",
    "\n",
    "preprocess = ColumnTransformer([('pass', 'passthrough', pass_cols), ('minmax', minmax, cols)])\n",
    "#std_preprocess = ColumnTransformer([('pass', 'passthrough', pass_cols), ('standard', std, cols)])"
   ]
  },
  {
   "attachments": {},
   "cell_type": "markdown",
   "id": "75e65a44",
   "metadata": {},
   "source": [
    "**Using Min Max Scaler for all features.**"
   ]
  },
  {
   "cell_type": "code",
   "execution_count": 117,
   "id": "42e220a8",
   "metadata": {},
   "outputs": [],
   "source": [
    "#df_prep_scaled\n",
    "df_prep_scaled = pd.DataFrame(preprocess.fit_transform(df_prep))\n",
    "cols = np.concatenate((pass_cols, cols), axis=0)\n",
    "df_prep_scaled.columns = cols"
   ]
  },
  {
   "cell_type": "markdown",
   "id": "6adfc1a0",
   "metadata": {},
   "source": [
    "![green-divider](https://user-images.githubusercontent.com/7065401/52071924-c003ad80-2562-11e9-8297-1c6595f8a7ff.png)\n"
   ]
  },
  {
   "attachments": {},
   "cell_type": "markdown",
   "id": "af8301a1",
   "metadata": {},
   "source": [
    "# 6.0. Feature Selection"
   ]
  },
  {
   "cell_type": "code",
   "execution_count": 118,
   "id": "48e9afb6",
   "metadata": {},
   "outputs": [],
   "source": [
    "# remove avg_basket\n",
    "# remove avg_recency\n",
    "# remove items\n",
    "# remove Transaction\n",
    "\n",
    "columns_selected = ['customer_id', 'recency', 'frequency', 'total_spent', 'total_quantity', 'number_of_cancellations']"
   ]
  },
  {
   "cell_type": "code",
   "execution_count": 119,
   "id": "e8806a88",
   "metadata": {},
   "outputs": [],
   "source": [
    "df_fselect = df_prep.copy()[columns_selected]\n",
    "df_fselect_sc = df_prep_scaled.copy()[columns_selected]"
   ]
  },
  {
   "attachments": {},
   "cell_type": "markdown",
   "id": "9f502635",
   "metadata": {},
   "source": [
    "# 7.0. Embedding Space"
   ]
  },
  {
   "cell_type": "code",
   "execution_count": 120,
   "id": "d869ff52",
   "metadata": {},
   "outputs": [],
   "source": [
    "df_embed = df_fselect.drop(columns=['customer_id']).copy()\n",
    "\n",
    "df_embed_sc = df_fselect_sc.drop(columns=['customer_id']).copy()"
   ]
  },
  {
   "attachments": {},
   "cell_type": "markdown",
   "id": "588b51c6",
   "metadata": {},
   "source": [
    "## 7.4. Tree-Based Embedding"
   ]
  },
  {
   "attachments": {},
   "cell_type": "markdown",
   "id": "dc11fbf2",
   "metadata": {},
   "source": [
    "Variable that organize the customers in a way that I can group the most valuable clients."
   ]
  },
  {
   "cell_type": "code",
   "execution_count": 121,
   "id": "b0e3e029",
   "metadata": {},
   "outputs": [],
   "source": [
    "X = df_embed.drop(columns='total_spent')\n",
    "y = df_embed['total_spent']\n",
    "\n",
    "# model\n",
    "rf = RandomForestRegressor(n_estimators=100, random_state=42)\n",
    "# training\n",
    "rf.fit(X, y)\n",
    "\n",
    "# Aplying the tree structure in the training set (Leafs)\n",
    "df_leaf = pd.DataFrame(rf.apply(X)) \n"
   ]
  },
  {
   "cell_type": "code",
   "execution_count": 122,
   "id": "69040989",
   "metadata": {},
   "outputs": [],
   "source": [
    "umap = um.UMAP(n_neighbors=50, random_state=42, n_jobs=-1, n_epochs=500, n_components=4)\n",
    "\n",
    "df_umap_rf = umap.fit_transform(df_leaf)\n",
    "df_embed_tree = pd.DataFrame(df_umap_rf)\n",
    "#plt.figure(figsize=(12, 6))\n",
    "\n",
    "#sns.scatterplot(x=df_umap_rf[:, 0], y=df_umap_rf[:, 1])\n"
   ]
  },
  {
   "cell_type": "markdown",
   "id": "4c5ad535",
   "metadata": {},
   "source": [
    "![green-divider](https://user-images.githubusercontent.com/7065401/52071924-c003ad80-2562-11e9-8297-1c6595f8a7ff.png)\n"
   ]
  },
  {
   "attachments": {},
   "cell_type": "markdown",
   "id": "872c5ea0",
   "metadata": {},
   "source": [
    "# 8.0. Hyperparameter Fine-Tuning"
   ]
  },
  {
   "cell_type": "code",
   "execution_count": 123,
   "id": "8a568db2",
   "metadata": {},
   "outputs": [],
   "source": [
    "#X = df_fselect_sc.copy().reset_index(drop=True).drop(columns=['customer_id'])\n",
    "# Using the data of the embedding space build with umap and a tree model\n",
    "\n",
    "X = df_embed_sc.copy()\n",
    "\n",
    "X_tree = df_embed_tree.copy()\n",
    "\n",
    "#X_umap = df_umap_sc.copy()\n",
    "#\n",
    "#X_tsne = df_tsne_sc.copy()"
   ]
  },
  {
   "cell_type": "markdown",
   "id": "66f6b6c4",
   "metadata": {},
   "source": [
    "# Results"
   ]
  },
  {
   "cell_type": "code",
   "execution_count": 124,
   "id": "a2f8895b",
   "metadata": {},
   "outputs": [
    {
     "data": {
      "text/html": [
       "<style type=\"text/css\">\n",
       "#T_b176d_row0_col9, #T_b176d_row1_col10, #T_b176d_row2_col8 {\n",
       "  background-color: lightgreen;\n",
       "}\n",
       "</style>\n",
       "<table id=\"T_b176d\">\n",
       "  <thead>\n",
       "    <tr>\n",
       "      <th class=\"blank level0\" >&nbsp;</th>\n",
       "      <th id=\"T_b176d_level0_col0\" class=\"col_heading level0 col0\" >2</th>\n",
       "      <th id=\"T_b176d_level0_col1\" class=\"col_heading level0 col1\" >3</th>\n",
       "      <th id=\"T_b176d_level0_col2\" class=\"col_heading level0 col2\" >4</th>\n",
       "      <th id=\"T_b176d_level0_col3\" class=\"col_heading level0 col3\" >5</th>\n",
       "      <th id=\"T_b176d_level0_col4\" class=\"col_heading level0 col4\" >6</th>\n",
       "      <th id=\"T_b176d_level0_col5\" class=\"col_heading level0 col5\" >7</th>\n",
       "      <th id=\"T_b176d_level0_col6\" class=\"col_heading level0 col6\" >8</th>\n",
       "      <th id=\"T_b176d_level0_col7\" class=\"col_heading level0 col7\" >9</th>\n",
       "      <th id=\"T_b176d_level0_col8\" class=\"col_heading level0 col8\" >10</th>\n",
       "      <th id=\"T_b176d_level0_col9\" class=\"col_heading level0 col9\" >11</th>\n",
       "      <th id=\"T_b176d_level0_col10\" class=\"col_heading level0 col10\" >12</th>\n",
       "      <th id=\"T_b176d_level0_col11\" class=\"col_heading level0 col11\" >13</th>\n",
       "      <th id=\"T_b176d_level0_col12\" class=\"col_heading level0 col12\" >14</th>\n",
       "      <th id=\"T_b176d_level0_col13\" class=\"col_heading level0 col13\" >15</th>\n",
       "      <th id=\"T_b176d_level0_col14\" class=\"col_heading level0 col14\" >16</th>\n",
       "      <th id=\"T_b176d_level0_col15\" class=\"col_heading level0 col15\" >17</th>\n",
       "      <th id=\"T_b176d_level0_col16\" class=\"col_heading level0 col16\" >18</th>\n",
       "      <th id=\"T_b176d_level0_col17\" class=\"col_heading level0 col17\" >19</th>\n",
       "      <th id=\"T_b176d_level0_col18\" class=\"col_heading level0 col18\" >20</th>\n",
       "      <th id=\"T_b176d_level0_col19\" class=\"col_heading level0 col19\" >21</th>\n",
       "      <th id=\"T_b176d_level0_col20\" class=\"col_heading level0 col20\" >22</th>\n",
       "      <th id=\"T_b176d_level0_col21\" class=\"col_heading level0 col21\" >23</th>\n",
       "      <th id=\"T_b176d_level0_col22\" class=\"col_heading level0 col22\" >24</th>\n",
       "      <th id=\"T_b176d_level0_col23\" class=\"col_heading level0 col23\" >25</th>\n",
       "      <th id=\"T_b176d_level0_col24\" class=\"col_heading level0 col24\" >26</th>\n",
       "      <th id=\"T_b176d_level0_col25\" class=\"col_heading level0 col25\" >27</th>\n",
       "      <th id=\"T_b176d_level0_col26\" class=\"col_heading level0 col26\" >28</th>\n",
       "      <th id=\"T_b176d_level0_col27\" class=\"col_heading level0 col27\" >29</th>\n",
       "    </tr>\n",
       "  </thead>\n",
       "  <tbody>\n",
       "    <tr>\n",
       "      <th id=\"T_b176d_level0_row0\" class=\"row_heading level0 row0\" >KMeans</th>\n",
       "      <td id=\"T_b176d_row0_col0\" class=\"data row0 col0\" >0.291570</td>\n",
       "      <td id=\"T_b176d_row0_col1\" class=\"data row0 col1\" >0.382762</td>\n",
       "      <td id=\"T_b176d_row0_col2\" class=\"data row0 col2\" >0.432783</td>\n",
       "      <td id=\"T_b176d_row0_col3\" class=\"data row0 col3\" >0.501478</td>\n",
       "      <td id=\"T_b176d_row0_col4\" class=\"data row0 col4\" >0.546204</td>\n",
       "      <td id=\"T_b176d_row0_col5\" class=\"data row0 col5\" >0.613159</td>\n",
       "      <td id=\"T_b176d_row0_col6\" class=\"data row0 col6\" >0.667090</td>\n",
       "      <td id=\"T_b176d_row0_col7\" class=\"data row0 col7\" >0.680232</td>\n",
       "      <td id=\"T_b176d_row0_col8\" class=\"data row0 col8\" >0.711895</td>\n",
       "      <td id=\"T_b176d_row0_col9\" class=\"data row0 col9\" >0.721101</td>\n",
       "      <td id=\"T_b176d_row0_col10\" class=\"data row0 col10\" >0.699584</td>\n",
       "      <td id=\"T_b176d_row0_col11\" class=\"data row0 col11\" >0.693100</td>\n",
       "      <td id=\"T_b176d_row0_col12\" class=\"data row0 col12\" >0.672692</td>\n",
       "      <td id=\"T_b176d_row0_col13\" class=\"data row0 col13\" >0.709694</td>\n",
       "      <td id=\"T_b176d_row0_col14\" class=\"data row0 col14\" >0.672105</td>\n",
       "      <td id=\"T_b176d_row0_col15\" class=\"data row0 col15\" >0.683605</td>\n",
       "      <td id=\"T_b176d_row0_col16\" class=\"data row0 col16\" >0.665786</td>\n",
       "      <td id=\"T_b176d_row0_col17\" class=\"data row0 col17\" >0.652746</td>\n",
       "      <td id=\"T_b176d_row0_col18\" class=\"data row0 col18\" >0.649541</td>\n",
       "      <td id=\"T_b176d_row0_col19\" class=\"data row0 col19\" >0.652423</td>\n",
       "      <td id=\"T_b176d_row0_col20\" class=\"data row0 col20\" >0.656381</td>\n",
       "      <td id=\"T_b176d_row0_col21\" class=\"data row0 col21\" >0.659273</td>\n",
       "      <td id=\"T_b176d_row0_col22\" class=\"data row0 col22\" >0.646977</td>\n",
       "      <td id=\"T_b176d_row0_col23\" class=\"data row0 col23\" >0.658203</td>\n",
       "      <td id=\"T_b176d_row0_col24\" class=\"data row0 col24\" >0.657271</td>\n",
       "      <td id=\"T_b176d_row0_col25\" class=\"data row0 col25\" >0.666722</td>\n",
       "      <td id=\"T_b176d_row0_col26\" class=\"data row0 col26\" >0.640775</td>\n",
       "      <td id=\"T_b176d_row0_col27\" class=\"data row0 col27\" >0.651493</td>\n",
       "    </tr>\n",
       "    <tr>\n",
       "      <th id=\"T_b176d_level0_row1\" class=\"row_heading level0 row1\" >H_cluster</th>\n",
       "      <td id=\"T_b176d_row1_col0\" class=\"data row1 col0\" >0.281756</td>\n",
       "      <td id=\"T_b176d_row1_col1\" class=\"data row1 col1\" >0.360921</td>\n",
       "      <td id=\"T_b176d_row1_col2\" class=\"data row1 col2\" >0.436901</td>\n",
       "      <td id=\"T_b176d_row1_col3\" class=\"data row1 col3\" >0.493848</td>\n",
       "      <td id=\"T_b176d_row1_col4\" class=\"data row1 col4\" >0.552678</td>\n",
       "      <td id=\"T_b176d_row1_col5\" class=\"data row1 col5\" >0.613159</td>\n",
       "      <td id=\"T_b176d_row1_col6\" class=\"data row1 col6\" >0.663458</td>\n",
       "      <td id=\"T_b176d_row1_col7\" class=\"data row1 col7\" >0.695218</td>\n",
       "      <td id=\"T_b176d_row1_col8\" class=\"data row1 col8\" >0.705061</td>\n",
       "      <td id=\"T_b176d_row1_col9\" class=\"data row1 col9\" >0.721738</td>\n",
       "      <td id=\"T_b176d_row1_col10\" class=\"data row1 col10\" >0.730329</td>\n",
       "      <td id=\"T_b176d_row1_col11\" class=\"data row1 col11\" >0.717533</td>\n",
       "      <td id=\"T_b176d_row1_col12\" class=\"data row1 col12\" >0.720402</td>\n",
       "      <td id=\"T_b176d_row1_col13\" class=\"data row1 col13\" >0.718992</td>\n",
       "      <td id=\"T_b176d_row1_col14\" class=\"data row1 col14\" >0.704435</td>\n",
       "      <td id=\"T_b176d_row1_col15\" class=\"data row1 col15\" >0.699930</td>\n",
       "      <td id=\"T_b176d_row1_col16\" class=\"data row1 col16\" >0.691559</td>\n",
       "      <td id=\"T_b176d_row1_col17\" class=\"data row1 col17\" >0.671461</td>\n",
       "      <td id=\"T_b176d_row1_col18\" class=\"data row1 col18\" >0.661395</td>\n",
       "      <td id=\"T_b176d_row1_col19\" class=\"data row1 col19\" >0.673444</td>\n",
       "      <td id=\"T_b176d_row1_col20\" class=\"data row1 col20\" >0.661212</td>\n",
       "      <td id=\"T_b176d_row1_col21\" class=\"data row1 col21\" >0.668865</td>\n",
       "      <td id=\"T_b176d_row1_col22\" class=\"data row1 col22\" >0.669700</td>\n",
       "      <td id=\"T_b176d_row1_col23\" class=\"data row1 col23\" >0.678976</td>\n",
       "      <td id=\"T_b176d_row1_col24\" class=\"data row1 col24\" >0.677377</td>\n",
       "      <td id=\"T_b176d_row1_col25\" class=\"data row1 col25\" >0.682321</td>\n",
       "      <td id=\"T_b176d_row1_col26\" class=\"data row1 col26\" >0.678859</td>\n",
       "      <td id=\"T_b176d_row1_col27\" class=\"data row1 col27\" >0.672535</td>\n",
       "    </tr>\n",
       "    <tr>\n",
       "      <th id=\"T_b176d_level0_row2\" class=\"row_heading level0 row2\" >Gaussian Mixture</th>\n",
       "      <td id=\"T_b176d_row2_col0\" class=\"data row2 col0\" >0.202114</td>\n",
       "      <td id=\"T_b176d_row2_col1\" class=\"data row2 col1\" >0.326373</td>\n",
       "      <td id=\"T_b176d_row2_col2\" class=\"data row2 col2\" >0.377151</td>\n",
       "      <td id=\"T_b176d_row2_col3\" class=\"data row2 col3\" >0.446171</td>\n",
       "      <td id=\"T_b176d_row2_col4\" class=\"data row2 col4\" >0.512849</td>\n",
       "      <td id=\"T_b176d_row2_col5\" class=\"data row2 col5\" >0.602088</td>\n",
       "      <td id=\"T_b176d_row2_col6\" class=\"data row2 col6\" >0.600210</td>\n",
       "      <td id=\"T_b176d_row2_col7\" class=\"data row2 col7\" >0.630878</td>\n",
       "      <td id=\"T_b176d_row2_col8\" class=\"data row2 col8\" >0.705061</td>\n",
       "      <td id=\"T_b176d_row2_col9\" class=\"data row2 col9\" >0.699691</td>\n",
       "      <td id=\"T_b176d_row2_col10\" class=\"data row2 col10\" >0.681721</td>\n",
       "      <td id=\"T_b176d_row2_col11\" class=\"data row2 col11\" >0.701971</td>\n",
       "      <td id=\"T_b176d_row2_col12\" class=\"data row2 col12\" >0.668629</td>\n",
       "      <td id=\"T_b176d_row2_col13\" class=\"data row2 col13\" >0.680112</td>\n",
       "      <td id=\"T_b176d_row2_col14\" class=\"data row2 col14\" >0.670136</td>\n",
       "      <td id=\"T_b176d_row2_col15\" class=\"data row2 col15\" >0.649052</td>\n",
       "      <td id=\"T_b176d_row2_col16\" class=\"data row2 col16\" >0.664332</td>\n",
       "      <td id=\"T_b176d_row2_col17\" class=\"data row2 col17\" >0.645093</td>\n",
       "      <td id=\"T_b176d_row2_col18\" class=\"data row2 col18\" >0.653155</td>\n",
       "      <td id=\"T_b176d_row2_col19\" class=\"data row2 col19\" >0.666121</td>\n",
       "      <td id=\"T_b176d_row2_col20\" class=\"data row2 col20\" >0.656413</td>\n",
       "      <td id=\"T_b176d_row2_col21\" class=\"data row2 col21\" >0.650888</td>\n",
       "      <td id=\"T_b176d_row2_col22\" class=\"data row2 col22\" >0.664450</td>\n",
       "      <td id=\"T_b176d_row2_col23\" class=\"data row2 col23\" >0.664628</td>\n",
       "      <td id=\"T_b176d_row2_col24\" class=\"data row2 col24\" >0.671636</td>\n",
       "      <td id=\"T_b176d_row2_col25\" class=\"data row2 col25\" >0.662933</td>\n",
       "      <td id=\"T_b176d_row2_col26\" class=\"data row2 col26\" >0.672381</td>\n",
       "      <td id=\"T_b176d_row2_col27\" class=\"data row2 col27\" >0.663529</td>\n",
       "    </tr>\n",
       "  </tbody>\n",
       "</table>\n"
      ],
      "text/plain": [
       "<pandas.io.formats.style.Styler at 0x1b40356ebe0>"
      ]
     },
     "execution_count": 124,
     "metadata": {},
     "output_type": "execute_result"
    }
   ],
   "source": [
    "#clusters = np.arange(2, 30, 1)\n",
    "#hierarch_perf = gu.hierarchical_performance(X=X_tree, clusters=clusters, plot=False, metric='euclidean')\n",
    "#gmm_perf = gu.gmm_performance(X=X_tree, components=clusters, plot=False, metric='euclidean', covariance_type='full')\n",
    "#kmeans_perf = gu.kmeans_performance(X=X_tree, clusters=clusters, plot=False, metric='euclidean')\n",
    "#\n",
    "#results = pd.concat([kmeans_perf, hierarch_perf, gmm_perf])\n",
    "#results.columns = clusters\n",
    "#\n",
    "#results.style.highlight_max(color='lightgreen', axis=1)"
   ]
  },
  {
   "cell_type": "markdown",
   "id": "c6a19e50",
   "metadata": {},
   "source": [
    "![green-divider](https://user-images.githubusercontent.com/7065401/52071924-c003ad80-2562-11e9-8297-1c6595f8a7ff.png)\n"
   ]
  },
  {
   "attachments": {},
   "cell_type": "markdown",
   "id": "18cbf1dd",
   "metadata": {},
   "source": [
    "# 8.0. Model Training"
   ]
  },
  {
   "attachments": {},
   "cell_type": "markdown",
   "id": "5a99d900",
   "metadata": {},
   "source": [
    "## 8.1. Hierarchical Clustering"
   ]
  },
  {
   "cell_type": "code",
   "execution_count": 81,
   "id": "af9837ee",
   "metadata": {},
   "outputs": [
    {
     "name": "stdout",
     "output_type": "stream",
     "text": [
      "Silhouette Score: 0.7217379808425903\n"
     ]
    }
   ],
   "source": [
    "n_cluster = 11\n",
    "agg_clu = AgglomerativeClustering(n_clusters=n_cluster)\n",
    "\n",
    "labels = agg_clu.fit_predict(X_tree)\n",
    "\n",
    "sil = mt.silhouette_score(X_tree, labels, metric='euclidean')\n",
    "\n",
    "print(f'Silhouette Score: {sil}')"
   ]
  },
  {
   "cell_type": "markdown",
   "id": "75293f24",
   "metadata": {},
   "source": [
    "![green-divider](https://user-images.githubusercontent.com/7065401/52071924-c003ad80-2562-11e9-8297-1c6595f8a7ff.png)\n"
   ]
  },
  {
   "attachments": {},
   "cell_type": "markdown",
   "id": "a5944c80",
   "metadata": {},
   "source": [
    "# 9.0. Cluster Analysis"
   ]
  },
  {
   "cell_type": "markdown",
   "id": "e3f07a19",
   "metadata": {},
   "source": [
    "## 9.1. Visualization"
   ]
  },
  {
   "cell_type": "code",
   "execution_count": 82,
   "id": "50be2306",
   "metadata": {},
   "outputs": [],
   "source": [
    "cluster_df = df_fselect.copy()\n",
    "cluster_df_sc = df_fselect_sc.copy()\n",
    "cluster_df['cluster'] = labels\n",
    "cluster_df_sc['cluster'] = labels"
   ]
  },
  {
   "attachments": {},
   "cell_type": "markdown",
   "id": "366f1529",
   "metadata": {},
   "source": [
    "## 9.2. Clusters Profile"
   ]
  },
  {
   "cell_type": "code",
   "execution_count": 86,
   "id": "3e26ea6d",
   "metadata": {},
   "outputs": [
    {
     "data": {
      "text/html": [
       "<div>\n",
       "<style scoped>\n",
       "    .dataframe tbody tr th:only-of-type {\n",
       "        vertical-align: middle;\n",
       "    }\n",
       "\n",
       "    .dataframe tbody tr th {\n",
       "        vertical-align: top;\n",
       "    }\n",
       "\n",
       "    .dataframe thead th {\n",
       "        text-align: right;\n",
       "    }\n",
       "</style>\n",
       "<table border=\"1\" class=\"dataframe\">\n",
       "  <thead>\n",
       "    <tr style=\"text-align: right;\">\n",
       "      <th></th>\n",
       "      <th>cluster</th>\n",
       "      <th>number_of_customers</th>\n",
       "      <th>percentual</th>\n",
       "      <th>avg_recency</th>\n",
       "      <th>avg_frequency</th>\n",
       "      <th>avg_spent</th>\n",
       "      <th>number_of_cancellations</th>\n",
       "      <th>avg_quantity</th>\n",
       "    </tr>\n",
       "  </thead>\n",
       "  <tbody>\n",
       "    <tr>\n",
       "      <th>0</th>\n",
       "      <td>0</td>\n",
       "      <td>544</td>\n",
       "      <td>9.57</td>\n",
       "      <td>204.505515</td>\n",
       "      <td>0.015439</td>\n",
       "      <td>66.714798</td>\n",
       "      <td>0.176471</td>\n",
       "      <td>17.108456</td>\n",
       "    </tr>\n",
       "    <tr>\n",
       "      <th>1</th>\n",
       "      <td>1</td>\n",
       "      <td>917</td>\n",
       "      <td>16.13</td>\n",
       "      <td>118.008724</td>\n",
       "      <td>0.019063</td>\n",
       "      <td>589.918364</td>\n",
       "      <td>8.735005</td>\n",
       "      <td>262.605234</td>\n",
       "    </tr>\n",
       "    <tr>\n",
       "      <th>2</th>\n",
       "      <td>2</td>\n",
       "      <td>627</td>\n",
       "      <td>11.03</td>\n",
       "      <td>119.998405</td>\n",
       "      <td>0.016655</td>\n",
       "      <td>1004.995566</td>\n",
       "      <td>3.945774</td>\n",
       "      <td>427.122807</td>\n",
       "    </tr>\n",
       "    <tr>\n",
       "      <th>3</th>\n",
       "      <td>3</td>\n",
       "      <td>695</td>\n",
       "      <td>12.23</td>\n",
       "      <td>144.263309</td>\n",
       "      <td>0.017046</td>\n",
       "      <td>340.175252</td>\n",
       "      <td>1.103597</td>\n",
       "      <td>144.633094</td>\n",
       "    </tr>\n",
       "    <tr>\n",
       "      <th>4</th>\n",
       "      <td>4</td>\n",
       "      <td>677</td>\n",
       "      <td>11.91</td>\n",
       "      <td>179.468242</td>\n",
       "      <td>0.016562</td>\n",
       "      <td>232.314402</td>\n",
       "      <td>0.660266</td>\n",
       "      <td>73.425406</td>\n",
       "    </tr>\n",
       "    <tr>\n",
       "      <th>5</th>\n",
       "      <td>5</td>\n",
       "      <td>487</td>\n",
       "      <td>8.57</td>\n",
       "      <td>30.172485</td>\n",
       "      <td>0.052795</td>\n",
       "      <td>10708.476448</td>\n",
       "      <td>162.745380</td>\n",
       "      <td>6309.527721</td>\n",
       "    </tr>\n",
       "    <tr>\n",
       "      <th>6</th>\n",
       "      <td>6</td>\n",
       "      <td>592</td>\n",
       "      <td>10.41</td>\n",
       "      <td>49.010135</td>\n",
       "      <td>0.034473</td>\n",
       "      <td>2682.552196</td>\n",
       "      <td>15.003378</td>\n",
       "      <td>1422.554054</td>\n",
       "    </tr>\n",
       "    <tr>\n",
       "      <th>7</th>\n",
       "      <td>7</td>\n",
       "      <td>655</td>\n",
       "      <td>11.52</td>\n",
       "      <td>77.419847</td>\n",
       "      <td>0.022749</td>\n",
       "      <td>1605.094122</td>\n",
       "      <td>13.833588</td>\n",
       "      <td>844.632061</td>\n",
       "    </tr>\n",
       "    <tr>\n",
       "      <th>8</th>\n",
       "      <td>8</td>\n",
       "      <td>113</td>\n",
       "      <td>1.99</td>\n",
       "      <td>210.504425</td>\n",
       "      <td>0.010335</td>\n",
       "      <td>5.755221</td>\n",
       "      <td>0.000000</td>\n",
       "      <td>1.000000</td>\n",
       "    </tr>\n",
       "    <tr>\n",
       "      <th>9</th>\n",
       "      <td>9</td>\n",
       "      <td>302</td>\n",
       "      <td>5.31</td>\n",
       "      <td>63.923841</td>\n",
       "      <td>0.024744</td>\n",
       "      <td>1144.909735</td>\n",
       "      <td>7.437086</td>\n",
       "      <td>559.993377</td>\n",
       "    </tr>\n",
       "    <tr>\n",
       "      <th>10</th>\n",
       "      <td>10</td>\n",
       "      <td>76</td>\n",
       "      <td>1.34</td>\n",
       "      <td>131.157895</td>\n",
       "      <td>0.029961</td>\n",
       "      <td>11.855132</td>\n",
       "      <td>0.000000</td>\n",
       "      <td>2.368421</td>\n",
       "    </tr>\n",
       "  </tbody>\n",
       "</table>\n",
       "</div>"
      ],
      "text/plain": [
       "    cluster  number_of_customers  percentual  avg_recency  avg_frequency  \\\n",
       "0         0                  544        9.57   204.505515       0.015439   \n",
       "1         1                  917       16.13   118.008724       0.019063   \n",
       "2         2                  627       11.03   119.998405       0.016655   \n",
       "3         3                  695       12.23   144.263309       0.017046   \n",
       "4         4                  677       11.91   179.468242       0.016562   \n",
       "5         5                  487        8.57    30.172485       0.052795   \n",
       "6         6                  592       10.41    49.010135       0.034473   \n",
       "7         7                  655       11.52    77.419847       0.022749   \n",
       "8         8                  113        1.99   210.504425       0.010335   \n",
       "9         9                  302        5.31    63.923841       0.024744   \n",
       "10       10                   76        1.34   131.157895       0.029961   \n",
       "\n",
       "       avg_spent  number_of_cancellations  avg_quantity  \n",
       "0      66.714798                 0.176471     17.108456  \n",
       "1     589.918364                 8.735005    262.605234  \n",
       "2    1004.995566                 3.945774    427.122807  \n",
       "3     340.175252                 1.103597    144.633094  \n",
       "4     232.314402                 0.660266     73.425406  \n",
       "5   10708.476448               162.745380   6309.527721  \n",
       "6    2682.552196                15.003378   1422.554054  \n",
       "7    1605.094122                13.833588    844.632061  \n",
       "8       5.755221                 0.000000      1.000000  \n",
       "9    1144.909735                 7.437086    559.993377  \n",
       "10     11.855132                 0.000000      2.368421  "
      ]
     },
     "execution_count": 86,
     "metadata": {},
     "output_type": "execute_result"
    }
   ],
   "source": [
    "prof = cluster_df.groupby('cluster').count()['customer_id'].reset_index().rename(columns={'customer_id': 'number_of_customers'})\n",
    "prof['percentual'] = round((cluster_df.groupby('cluster').count().reset_index()['customer_id']/cluster_df.shape[0])*100, 2)\n",
    "\n",
    "prof['avg_recency'] = cluster_df.groupby('cluster').mean().reset_index()['recency']\n",
    "\n",
    "prof['avg_frequency'] = cluster_df.groupby('cluster').mean().reset_index()['frequency']\n",
    "\n",
    "prof['avg_spent'] = cluster_df.groupby('cluster').mean().reset_index()['total_spent']\n",
    "\n",
    "prof['number_of_cancellations'] = cluster_df.groupby('cluster').mean().reset_index()['number_of_cancellations']\n",
    "\n",
    "prof['avg_quantity'] = cluster_df.groupby('cluster').mean().reset_index()['total_quantity']\n",
    "\n",
    "\n",
    "prof"
   ]
  },
  {
   "cell_type": "markdown",
   "id": "e8b1c388",
   "metadata": {},
   "source": [
    "![green-divider](https://user-images.githubusercontent.com/7065401/52071924-c003ad80-2562-11e9-8297-1c6595f8a7ff.png)\n"
   ]
  },
  {
   "attachments": {},
   "cell_type": "markdown",
   "id": "14a1ae90",
   "metadata": {},
   "source": [
    "# 11.0. Deploy to Production"
   ]
  },
  {
   "cell_type": "code",
   "execution_count": 87,
   "id": "a17c2e3c",
   "metadata": {},
   "outputs": [],
   "source": [
    "cluster_df['last_training_time'] = dt.datetime.now().strftime('%Y-%m-%d %H:%M:%S')"
   ]
  },
  {
   "cell_type": "code",
   "execution_count": 5,
   "id": "38e66726",
   "metadata": {},
   "outputs": [],
   "source": [
    "# Banco NA AWS\n",
    "variables_env = dotenv.dotenv_values('../vars/.env')\n",
    "\n",
    "host = variables_env['HOST']\n",
    "port = variables_env['PORT']\n",
    "database =variables_env['DATABASE']\n",
    "user=variables_env['USER']\n",
    "pwd=variables_env['PASSWORD']\n",
    "\n",
    "endpoint = f'postgresql+psycopg2://{user}:{pwd}@{host}:{port}/postgres'\n",
    "\n",
    "engine = create_engine(endpoint)\n",
    "con = engine.connect()"
   ]
  },
  {
   "cell_type": "code",
   "execution_count": null,
   "id": "01571941",
   "metadata": {},
   "outputs": [],
   "source": [
    "query_create_table_insiders = \"\"\"\n",
    "    CREATE TABLE IF NOT EXISTS insiders(\n",
    "        customer_id                 INTEGER,\n",
    "        recency                     INTEGER,\n",
    "        frequency                   REAL,\n",
    "        total_spent                 REAL,\n",
    "        total_quantity              INTEGER,\n",
    "        number_of_cancellations     INTEGER,\n",
    "        cluster                     INTEGER,\n",
    "        last_training_time          TEXT\n",
    "    )\"\"\"\n",
    "\n",
    "# Create Table\n",
    "\n",
    "con.execute(query_create_table_insiders)\n",
    "\n",
    "# Inser Data\n",
    "\n",
    "#cluster_df.to_sql('insiders', con=con, if_exists='append', index=False)\n"
   ]
  },
  {
   "cell_type": "code",
   "execution_count": null,
   "id": "5cf3330c",
   "metadata": {},
   "outputs": [],
   "source": [
    "test = pd.read_sql('SELECT * FROM insiders', con=con)\n",
    "\n",
    "combined = pd.concat([test, cluster_df], axis=0)\n",
    "cols = combined.drop(columns='last_training_time').columns.to_list()\n",
    "combined = combined.drop_duplicates(subset=cols, keep='last')\n",
    "\n",
    "combined.to_sql('insiders', con=con, if_exists='replace', index=False)\n",
    "\n",
    "con.close()"
   ]
  }
 ],
 "metadata": {
  "kernelspec": {
   "display_name": "Python 3 (ipykernel)",
   "language": "python",
   "name": "python3"
  },
  "language_info": {
   "codemirror_mode": {
    "name": "ipython",
    "version": 3
   },
   "file_extension": ".py",
   "mimetype": "text/x-python",
   "name": "python",
   "nbconvert_exporter": "python",
   "pygments_lexer": "ipython3",
   "version": "3.9.12"
  },
  "toc-autonumbering": false
 },
 "nbformat": 4,
 "nbformat_minor": 5
}
